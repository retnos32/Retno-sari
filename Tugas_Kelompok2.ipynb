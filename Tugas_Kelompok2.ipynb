{
  "nbformat": 4,
  "nbformat_minor": 0,
  "metadata": {
    "colab": {
      "provenance": []
    },
    "kernelspec": {
      "name": "python3",
      "display_name": "Python 3"
    },
    "language_info": {
      "name": "python"
    }
  },
  "cells": [
    {
      "cell_type": "markdown",
      "source": [
        "#Tugas Kelompok\n"
      ],
      "metadata": {
        "id": "DN9Dpf4cNmLu"
      }
    },
    {
      "cell_type": "markdown",
      "source": [
        "Nama Anggota :\n",
        "1. Achmad Nurs Syururi Arifin\n",
        "2. Anggie Maesyaroh\n",
        "3. Devita Hasnasya Rahma\n",
        "4. Lu'lu' Mudhiah Adilah\n",
        "5. Muhammad Rizky Irawan Wijaya\n",
        "6. Retno Sari Sirotujanah\n"
      ],
      "metadata": {
        "id": "hKjA9z9ANrWg"
      }
    },
    {
      "cell_type": "markdown",
      "source": [
        "#SOAL NO.1\n"
      ],
      "metadata": {
        "id": "Y32H_kB1ONHu"
      }
    },
    {
      "cell_type": "code",
      "source": [
        "import pandas as pd\n",
        "\n",
        "# menggunakan link github untuk menampilan datasheet\n",
        "url = 'https://raw.githubusercontent.com/luluma19/kompi2/main/df_2.csv'\n",
        "\n",
        "df = pd.read_csv(url)\n",
        "\n",
        "# menampilkan data\n",
        "print(df.to_string(index=False))\n"
      ],
      "metadata": {
        "id": "mlwCy1eqCl-G",
        "colab": {
          "base_uri": "https://localhost:8080/"
        },
        "outputId": "1f0ee851-ad60-4a3b-f830-c1369b14270b"
      },
      "execution_count": null,
      "outputs": [
        {
          "output_type": "stream",
          "name": "stdout",
          "text": [
            "          Timestamp No. Peserta                          Nama                  Jurusan  Berat Badan (Kg)  Tinggi Badan (Cm)\n",
            "12/09/2024 22:10:42     DS70222        Retno Sari Sirotujanah              Informatika                63                160\n",
            "12/09/2024 22:12:25     DS70205    Aldy Iriansyah Syarifuddin       Teknik Informatika                55                168\n",
            "12/09/2024 22:12:26     DS70218  Muhammad Rizki Irawan Wijaya            Ilmu Komputer               100                176\n",
            "12/09/2024 22:12:30     DS70202    Achmad Nurs Syururi Arifin D4 Manajemen Informatika                68                180\n",
            "12/09/2024 22:13:33     DS70209               Crisvane Dinda             Ilmu Ekonomi                 70                160\n",
            "12/09/2024 22:17:49     DS70217             Melati Anggiasari               Statistika                46                156\n",
            "12/09/2024 22:17:59     DS70206              Anggie Maesyaroh              Informatika                78                162\n",
            "12/09/2024 22:19:08     DS70221            Puteri Elisabeth P       Teknik Informatika                54                160\n",
            "12/09/2024 22:24:29     DS70219                  Nazwa Nabila         Sistem Informasi                45                153\n",
            "12/09/2024 22:46:48     DS70212                        Amalia            Ilmu Komputer                46                149\n",
            "12/09/2024 22:54:45     DS70224                 Stepanus Malo       Teknik Informatika                54                160\n",
            "12/09/2024 23:15:12     DS70220  Pandu Giswantoro Abhi Wiguno      Teknologi Informasi                70                172\n",
            " 13/09/2024 5:54:36     DS70213                          Lisa             Ilmu Ekonomi                51                162\n",
            " 13/09/2024 9:05:46     DS70201                   Abdul Hafiz              Informatika               110                175\n",
            "13/09/2024 12:41:41     DS70207               Ayrisa Trianida              Informatika                58                165\n",
            "13/09/2024 15:01:51     DS70203           Afif Fadhil Mahmudi       Teknik Informatika                51                171\n",
            "13/09/2024 18:35:43     DS70211                  Fiari Rahman       Teknik Informatika                80                178\n",
            "14/09/2024 16:44:39     DS70208          Cisa Nada Salsabilla    Pendidikan Matematika                60                163\n",
            "14/09/2024 18:06:11     DS70216                Meilisa Triana         Sistem Informasi                45                150\n",
            "14/09/2024 18:53:34     DS70214        Lu'lu' Mudhiah Adilah       Teknik Informatika                 65                160\n",
            "14/09/2024 20:47:00     DS70225                Taufiqurrohman         Sistem Informasi                65                157\n",
            " 16/09/2024 9:29:28     DS70210         Devita Hasnasya Rahma         Sistem Informasi                43                150\n",
            "14/09/2024 20:33:30     DS70215 M. Riziq Sirfatullah Alfarizi            ilmu komputer                45                162\n",
            "14/09/2024 20:33:30     DS70204            Afsha Alifia Putri       Teknik Informatika                45                158\n",
            "                NaN     DS70223                Safinatunnajah       Teknik Informatika                44                153\n"
          ]
        }
      ]
    },
    {
      "cell_type": "markdown",
      "source": [
        "Kode di atas menggunakan pustaka pandas untuk membaca file CSV dari URL dan mencetaknya tanpa menampilkan index. Pertama, file CSV dibaca dari URL yang berasal dari url github agar tidak perlu mengupload ulang datasheet csv setiap membuka file ini.\n",
        "\n",
        "menggunakan `pd.read_csv()`, yang mengubahnya menjadi DataFrame. Secara default, saat DataFrame ditampilkan dengan` print(df)`, pandas menambahkan kolom index (nomor baris otomatis). Untuk menghilangkan index tersebut dalam output, metode `to_string(index=False)` digunakan."
      ],
      "metadata": {
        "id": "Cqbu5zBG76In"
      }
    },
    {
      "cell_type": "markdown",
      "source": [
        "# Drop Timestamp & Menghapus kata Kg, cm dan Cm\n"
      ],
      "metadata": {
        "id": "FIGXMcnFjbs_"
      }
    },
    {
      "cell_type": "code",
      "source": [
        "df = df.drop('Timestamp', axis=1)\n",
        "print(df.to_string(index=False))"
      ],
      "metadata": {
        "colab": {
          "base_uri": "https://localhost:8080/"
        },
        "id": "Y2X9QLnVjRqM",
        "outputId": "279807d3-bb37-4770-adfd-a423d7d33ec0"
      },
      "execution_count": null,
      "outputs": [
        {
          "output_type": "stream",
          "name": "stdout",
          "text": [
            "No. Peserta                          Nama                  Jurusan  Berat Badan (Kg)  Tinggi Badan (Cm)\n",
            "    DS70222        Retno Sari Sirotujanah              Informatika                63                160\n",
            "    DS70205    Aldy Iriansyah Syarifuddin       Teknik Informatika                55                168\n",
            "    DS70218  Muhammad Rizki Irawan Wijaya            Ilmu Komputer               100                176\n",
            "    DS70202    Achmad Nurs Syururi Arifin D4 Manajemen Informatika                68                180\n",
            "    DS70209               Crisvane Dinda             Ilmu Ekonomi                 70                160\n",
            "    DS70217             Melati Anggiasari               Statistika                46                156\n",
            "    DS70206              Anggie Maesyaroh              Informatika                78                162\n",
            "    DS70221            Puteri Elisabeth P       Teknik Informatika                54                160\n",
            "    DS70219                  Nazwa Nabila         Sistem Informasi                45                153\n",
            "    DS70212                        Amalia            Ilmu Komputer                46                149\n",
            "    DS70224                 Stepanus Malo       Teknik Informatika                54                160\n",
            "    DS70220  Pandu Giswantoro Abhi Wiguno      Teknologi Informasi                70                172\n",
            "    DS70213                          Lisa             Ilmu Ekonomi                51                162\n",
            "    DS70201                   Abdul Hafiz              Informatika               110                175\n",
            "    DS70207               Ayrisa Trianida              Informatika                58                165\n",
            "    DS70203           Afif Fadhil Mahmudi       Teknik Informatika                51                171\n",
            "    DS70211                  Fiari Rahman       Teknik Informatika                80                178\n",
            "    DS70208          Cisa Nada Salsabilla    Pendidikan Matematika                60                163\n",
            "    DS70216                Meilisa Triana         Sistem Informasi                45                150\n",
            "    DS70214        Lu'lu' Mudhiah Adilah       Teknik Informatika                 65                160\n",
            "    DS70225                Taufiqurrohman         Sistem Informasi                65                157\n",
            "    DS70210         Devita Hasnasya Rahma         Sistem Informasi                43                150\n",
            "    DS70215 M. Riziq Sirfatullah Alfarizi            ilmu komputer                45                162\n",
            "    DS70204            Afsha Alifia Putri       Teknik Informatika                45                158\n",
            "    DS70223                Safinatunnajah       Teknik Informatika                44                153\n"
          ]
        }
      ]
    },
    {
      "cell_type": "markdown",
      "source": [
        "Kode `df = df.drop('Timestamp', axis=1)` digunakan untuk menghapus kolom bernama 'Timestamp' dari DataFrame `df`. Metode `drop()` mengambil dua argumen utama: nama kolom yang akan dihapus ('Timestamp') dan `axis=1`, yang menunjukkan bahwa yang ingin dihapus adalah kolom (bukan baris, yang akan menggunakan `axis=0`). Setelah kolom dihapus, DataFrame yang diperbarui disimpan kembali ke dalam variabel `df`. Kemudian, `print(df.to_string(index=False))` digunakan untuk menampilkan DataFrame yang telah dimodifikasi tanpa kolom 'Timestamp' dan tanpa index bawaan."
      ],
      "metadata": {
        "id": "BYQ1dkmQ8kOH"
      }
    },
    {
      "cell_type": "code",
      "source": [
        "# Menghapus \"kg\" dari kolom 'berat'\n",
        "df['Berat Badan (Kg)'] = df['Berat Badan (Kg)'].astype(str).str.replace(r'\\D+', '', regex=True)\n",
        "\n",
        "# Menghapus \"cm\" dari kolom 'tinggi'\n",
        "df['Tinggi Badan (Cm)'] = df['Tinggi Badan (Cm)'].astype(str).str.replace(r'\\D+', '', regex=True)\n",
        "\n",
        "# Mengonversi kolom menjadi tipe numerik setelah menghapus satuan\n",
        "df['Berat Badan (Kg)'] = pd.to_numeric(df['Berat Badan (Kg)'], errors='coerce')\n",
        "df['Tinggi Badan (Cm)'] = pd.to_numeric(df['Tinggi Badan (Cm)'], errors='coerce')\n",
        "\n",
        "print(\"\\nData setelah dibersihkan:\")\n",
        "print(df.to_string(index=False))"
      ],
      "metadata": {
        "colab": {
          "base_uri": "https://localhost:8080/"
        },
        "id": "68vxP4dDnJlv",
        "outputId": "e5fafe23-f693-4346-a857-4f98a37a4c21"
      },
      "execution_count": null,
      "outputs": [
        {
          "output_type": "stream",
          "name": "stdout",
          "text": [
            "\n",
            "Data setelah dibersihkan:\n",
            "No. Peserta                          Nama                  Jurusan  Berat Badan (Kg)  Tinggi Badan (Cm)\n",
            "    DS70222        Retno Sari Sirotujanah              Informatika                63                160\n",
            "    DS70205    Aldy Iriansyah Syarifuddin       Teknik Informatika                55                168\n",
            "    DS70218  Muhammad Rizki Irawan Wijaya            Ilmu Komputer               100                176\n",
            "    DS70202    Achmad Nurs Syururi Arifin D4 Manajemen Informatika                68                180\n",
            "    DS70209               Crisvane Dinda             Ilmu Ekonomi                 70                160\n",
            "    DS70217             Melati Anggiasari               Statistika                46                156\n",
            "    DS70206              Anggie Maesyaroh              Informatika                78                162\n",
            "    DS70221            Puteri Elisabeth P       Teknik Informatika                54                160\n",
            "    DS70219                  Nazwa Nabila         Sistem Informasi                45                153\n",
            "    DS70212                        Amalia            Ilmu Komputer                46                149\n",
            "    DS70224                 Stepanus Malo       Teknik Informatika                54                160\n",
            "    DS70220  Pandu Giswantoro Abhi Wiguno      Teknologi Informasi                70                172\n",
            "    DS70213                          Lisa             Ilmu Ekonomi                51                162\n",
            "    DS70201                   Abdul Hafiz              Informatika               110                175\n",
            "    DS70207               Ayrisa Trianida              Informatika                58                165\n",
            "    DS70203           Afif Fadhil Mahmudi       Teknik Informatika                51                171\n",
            "    DS70211                  Fiari Rahman       Teknik Informatika                80                178\n",
            "    DS70208          Cisa Nada Salsabilla    Pendidikan Matematika                60                163\n",
            "    DS70216                Meilisa Triana         Sistem Informasi                45                150\n",
            "    DS70214        Lu'lu' Mudhiah Adilah       Teknik Informatika                 65                160\n",
            "    DS70225                Taufiqurrohman         Sistem Informasi                65                157\n",
            "    DS70210         Devita Hasnasya Rahma         Sistem Informasi                43                150\n",
            "    DS70215 M. Riziq Sirfatullah Alfarizi            ilmu komputer                45                162\n",
            "    DS70204            Afsha Alifia Putri       Teknik Informatika                45                158\n",
            "    DS70223                Safinatunnajah       Teknik Informatika                44                153\n"
          ]
        }
      ]
    },
    {
      "cell_type": "markdown",
      "source": [
        "Kode di atas melakukan pembersihan dan konversi data pada kolom 'Berat Badan (Kg)' dan 'Tinggi Badan (Cm)' di DataFrame `df`. Pertama, dengan menggunakan `astype(str).str.replace(r'\\D+', '', regex=True)`, kode ini menghapus semua karakter non-digit (seperti \"kg\" dan \"cm\") dari kedua kolom, sehingga hanya angka yang tersisa dalam bentuk string. Selanjutnya, kedua kolom tersebut diubah menjadi tipe numerik menggunakan `pd.to_numeric()`, di mana `errors='coerce'` digunakan untuk memastikan bahwa jika terdapat nilai yang tidak bisa dikonversi menjadi angka, maka nilai tersebut akan diubah menjadi `NaN` (Not a Number). Akhirnya, hasil dari pembersihan dan konversi ditampilkan dengan mencetak DataFrame yang telah dibersihkan, memungkinkan pengguna untuk melihat data yang sudah siap untuk analisis lebih lanjut."
      ],
      "metadata": {
        "id": "fkEZTJp0nSfX"
      }
    },
    {
      "cell_type": "markdown",
      "source": [
        "#Menentukan Rata-rata Tinggi Badan dan Berat Badan\n"
      ],
      "metadata": {
        "id": "f_t2AS7vjnuz"
      }
    },
    {
      "cell_type": "code",
      "source": [
        "df.columns = ['No. Peserta', 'Nama', 'Jurusan', 'Berat Badan', 'Tinggi Badan']\n",
        "\n",
        "rata_mean = df['Tinggi Badan'].mean() #Menghitung rata-rata Tinggi Badan\n",
        "berat_mean = df['Berat Badan'].mean() #Menghitung rata-rata Berat Badan\n",
        "\n",
        "#print hasil\n",
        "print(f\"Tinggi Badan Rata-Rata : {rata_mean:.2f} cm \") #Menggunakan f-string untuk mencetak teks dengan nilai rata_mean, Format :.2f artinya angka rata-rata tinggi badan akan ditampilkan dengan dua angka di belakang koma, dan satuan yang ditampilkan adalah cm.\n",
        "print(f\"Berat Badan Rata-Rata : {berat_mean:.2f} kg\") #Ditampilkan dalam satuan Kg"
      ],
      "metadata": {
        "colab": {
          "base_uri": "https://localhost:8080/"
        },
        "id": "vO64BKek_nOc",
        "outputId": "0fbe3a99-69b1-4120-dd70-c62e65a3d4ad"
      },
      "execution_count": null,
      "outputs": [
        {
          "output_type": "stream",
          "name": "stdout",
          "text": [
            "Tinggi Badan Rata-Rata : 162.79 cm \n",
            "Berat Badan Rata-Rata : 61.12 kg\n"
          ]
        }
      ]
    },
    {
      "cell_type": "markdown",
      "source": [
        "1. Codingan diatas digunakan untuk menghitung rata-rata berat dan dan tinggi badan lalu menampilkan hasilnya dengan format yang sudah ditentukan\n",
        "2. output yang dihasilkan menampilkan rata-rata tersebut denganformat dua angka desm=imal menggunakan f-string"
      ],
      "metadata": {
        "id": "3Emu4mHM8644"
      }
    },
    {
      "cell_type": "markdown",
      "source": [
        "#Identifikasi Type Data dan Jumlah baris&kolom"
      ],
      "metadata": {
        "id": "SNaruy6Qj5eF"
      }
    },
    {
      "cell_type": "code",
      "source": [
        "#Menampilkan Tipe Data\n",
        "print(df.dtypes)"
      ],
      "metadata": {
        "colab": {
          "base_uri": "https://localhost:8080/"
        },
        "id": "ieYEsORk_qoa",
        "outputId": "c4d75f63-31be-4ee2-dcfe-7674995fd2ba"
      },
      "execution_count": null,
      "outputs": [
        {
          "output_type": "stream",
          "name": "stdout",
          "text": [
            "No. Peserta          object\n",
            "Nama                 object\n",
            "Jurusan              object\n",
            "Berat Badan (Kg)      int64\n",
            "Tinggi Badan (Cm)     int64\n",
            "dtype: object\n"
          ]
        }
      ]
    },
    {
      "cell_type": "markdown",
      "source": [
        "Kode print(df.dtypes) adalah atribut dalam objek DataFrame di pustaka pandas yang digunakan untuk menampilkan tipe data dari setiap kolom dalam DataFrame tersebut"
      ],
      "metadata": {
        "id": "T9uCZhK89WvW"
      }
    },
    {
      "cell_type": "code",
      "source": [
        "#Menampilkan Baris dan Kolom\n",
        "print(df.shape)"
      ],
      "metadata": {
        "colab": {
          "base_uri": "https://localhost:8080/"
        },
        "id": "Zet5pZAfne3k",
        "outputId": "c246e666-7767-457b-d509-111505f2699b"
      },
      "execution_count": null,
      "outputs": [
        {
          "output_type": "stream",
          "name": "stdout",
          "text": [
            "(25, 5)\n"
          ]
        }
      ]
    },
    {
      "cell_type": "markdown",
      "source": [
        "de print(df.shape) digunakan untuk menampilkan jumlah baris dan kolom yang terdapat dalam DataFrame df. Atribut shape mengembalikan sebuah tuple yang terdiri dari dua nilai: nilai pertama adalah jumlah baris, dan nilai kedua adalah jumlah kolom."
      ],
      "metadata": {
        "id": "ypxOde6_nh4R"
      }
    },
    {
      "cell_type": "code",
      "source": [
        "#Menampilkan informasi dataset\n",
        "df.info()"
      ],
      "metadata": {
        "colab": {
          "base_uri": "https://localhost:8080/"
        },
        "id": "670QqoT7nkVx",
        "outputId": "2a97bcae-a02d-4d41-ec35-0762d818f027"
      },
      "execution_count": null,
      "outputs": [
        {
          "output_type": "stream",
          "name": "stdout",
          "text": [
            "<class 'pandas.core.frame.DataFrame'>\n",
            "RangeIndex: 25 entries, 0 to 24\n",
            "Data columns (total 5 columns):\n",
            " #   Column             Non-Null Count  Dtype \n",
            "---  ------             --------------  ----- \n",
            " 0   No. Peserta        25 non-null     object\n",
            " 1   Nama               25 non-null     object\n",
            " 2   Jurusan            25 non-null     object\n",
            " 3   Berat Badan (Kg)   25 non-null     int64 \n",
            " 4   Tinggi Badan (Cm)  25 non-null     int64 \n",
            "dtypes: int64(2), object(3)\n",
            "memory usage: 1.1+ KB\n"
          ]
        }
      ]
    },
    {
      "cell_type": "markdown",
      "source": [
        "#2. Hitung BMI dalam dataset\n"
      ],
      "metadata": {
        "id": "LMpYzqUSkPNW"
      }
    },
    {
      "cell_type": "markdown",
      "source": [
        "Hitunglah BMI setiap siswa dengan rumus BMI = **Berat Badan(Kg)/(Tinggi Badan ((cm))²** , masukkan hasil perhitungan ke dalam dataframe."
      ],
      "metadata": {
        "id": "Ip6v0gL6OU9U"
      }
    },
    {
      "cell_type": "code",
      "source": [
        "#Fungsi Hitung BMI\n",
        "def Hitung_BMI(df) :\n",
        "  #Konversi Tinggi Badan ke dalam Meter\n",
        "  df['Tinggi Badan (M)'] = df['Tinggi Badan (Cm)']/100\n",
        "\n",
        "  #Program BMI\n",
        "  df['BMI'] = df['Berat Badan (Kg)'] / (df['Tinggi Badan (M)']**2)\n",
        "\n",
        "  #Menampilkan BMI dengan 2 angka di belakang koma\n",
        "  df['BMI'] = df['BMI'].round(2)\n",
        "  return df\n",
        "\n",
        "#Tambah Hitung BMI ke Dataset\n",
        "df = Hitung_BMI(df)\n",
        "\n",
        "print(df)\n"
      ],
      "metadata": {
        "colab": {
          "base_uri": "https://localhost:8080/"
        },
        "id": "w_M7vTlw_v82",
        "outputId": "4f28e1e5-332d-4413-f5db-43ae38ff0269"
      },
      "execution_count": null,
      "outputs": [
        {
          "output_type": "stream",
          "name": "stdout",
          "text": [
            "   No. Peserta                           Nama                   Jurusan  \\\n",
            "0      DS70222         Retno Sari Sirotujanah               Informatika   \n",
            "1      DS70205     Aldy Iriansyah Syarifuddin        Teknik Informatika   \n",
            "2      DS70218   Muhammad Rizki Irawan Wijaya             Ilmu Komputer   \n",
            "3      DS70202     Achmad Nurs Syururi Arifin  D4 Manajemen Informatika   \n",
            "4      DS70209                Crisvane Dinda              Ilmu Ekonomi    \n",
            "5      DS70217              Melati Anggiasari                Statistika   \n",
            "6      DS70206               Anggie Maesyaroh               Informatika   \n",
            "7      DS70221             Puteri Elisabeth P        Teknik Informatika   \n",
            "8      DS70219                   Nazwa Nabila          Sistem Informasi   \n",
            "9      DS70212                         Amalia             Ilmu Komputer   \n",
            "10     DS70224                  Stepanus Malo        Teknik Informatika   \n",
            "11     DS70220   Pandu Giswantoro Abhi Wiguno       Teknologi Informasi   \n",
            "12     DS70213                           Lisa              Ilmu Ekonomi   \n",
            "13     DS70201                    Abdul Hafiz               Informatika   \n",
            "14     DS70207                Ayrisa Trianida               Informatika   \n",
            "15     DS70203            Afif Fadhil Mahmudi        Teknik Informatika   \n",
            "16     DS70211                   Fiari Rahman        Teknik Informatika   \n",
            "17     DS70208           Cisa Nada Salsabilla     Pendidikan Matematika   \n",
            "18     DS70216                 Meilisa Triana          Sistem Informasi   \n",
            "19     DS70214         Lu'lu' Mudhiah Adilah        Teknik Informatika    \n",
            "20     DS70225                 Taufiqurrohman          Sistem Informasi   \n",
            "21     DS70210          Devita Hasnasya Rahma          Sistem Informasi   \n",
            "22     DS70215  M. Riziq Sirfatullah Alfarizi             ilmu komputer   \n",
            "23     DS70204             Afsha Alifia Putri        Teknik Informatika   \n",
            "24     DS70223                 Safinatunnajah        Teknik Informatika   \n",
            "\n",
            "    Berat Badan (Kg)  Tinggi Badan (Cm)  Tinggi Badan (M)    BMI  \n",
            "0                 63                160              1.60  24.61  \n",
            "1                 55                168              1.68  19.49  \n",
            "2                100                176              1.76  32.28  \n",
            "3                 68                180              1.80  20.99  \n",
            "4                 70                160              1.60  27.34  \n",
            "5                 46                156              1.56  18.90  \n",
            "6                 78                162              1.62  29.72  \n",
            "7                 54                160              1.60  21.09  \n",
            "8                 45                153              1.53  19.22  \n",
            "9                 46                149              1.49  20.72  \n",
            "10                54                160              1.60  21.09  \n",
            "11                70                172              1.72  23.66  \n",
            "12                51                162              1.62  19.43  \n",
            "13               110                175              1.75  35.92  \n",
            "14                58                165              1.65  21.30  \n",
            "15                51                171              1.71  17.44  \n",
            "16                80                178              1.78  25.25  \n",
            "17                60                163              1.63  22.58  \n",
            "18                45                150              1.50  20.00  \n",
            "19                65                160              1.60  25.39  \n",
            "20                65                157              1.57  26.37  \n",
            "21                43                150              1.50  19.11  \n",
            "22                45                162              1.62  17.15  \n",
            "23                45                158              1.58  18.03  \n",
            "24                44                153              1.53  18.80  \n"
          ]
        }
      ]
    },
    {
      "cell_type": "markdown",
      "source": [
        "1. Kodingan tersebut digunakan untuk menghitung BMI (Body Mass Index) dari data berat badan dan tinggi badan lalu menampilkan hasilnya\n",
        "2. BMI dihitung berdasarkan rumus berat badan yang dibagi dengan tinggi badan dalam meter dikuadratkan\n",
        "3. nilai BMI dibulatkan hingga 2 angka dibelakang koma\n",
        "4. Nalai akhir menampilkan nama peserta dan nama BMI mereka dalam bentuk tabel nama menampilkan nomor baris\n"
      ],
      "metadata": {
        "id": "prfLYhqa-FGX"
      }
    },
    {
      "cell_type": "markdown",
      "source": [
        "#3. Membuat Program untuk menghitung BMI\n"
      ],
      "metadata": {
        "id": "YiYqK-jjkToC"
      }
    },
    {
      "cell_type": "markdown",
      "source": [
        "\n",
        "a. Buatlah function dengan input berat badan dan tinggi badan dari user (dalam decimal)\n",
        "\n",
        "b. Secara otomatis program akan menghitung BMI."
      ],
      "metadata": {
        "id": "l6H6rR7tOeLM"
      }
    },
    {
      "cell_type": "code",
      "source": [
        "1# Fungsi untuk menghitung BMI\n",
        "def BMI_Calculator():\n",
        "    try:\n",
        "        # Meminta input dari user untuk tinggi badan (dalam cm)\n",
        "        print(\"Masukkan Tinggi Badan (cm):\")\n",
        "        Tinggi_Badan = float(input())  # Mengonversi input ke tipe float\n",
        "\n",
        "        # Meminta input dari user untuk berat badan (dalam kg)\n",
        "        print(\"Masukkan Berat Badan (kg):\")\n",
        "        Berat_Badan = float(input())  # Mengonversi input ke tipe float\n",
        "\n",
        "        # Konversi tinggi badan dari cm ke meter\n",
        "        Tinggi_Badan_M = Tinggi_Badan / 100\n",
        "\n",
        "        # Menghitung BMI\n",
        "        BMI = Berat_Badan / (Tinggi_Badan_M ** 2)\n",
        "\n",
        "        # Menampilkan hasil BMI\n",
        "        print(f\"Nilai BMI Anda adalah: {BMI:.2f}\")\n",
        "\n",
        "    except ValueError:\n",
        "        print(\"Input tidak valid. Pastikan Anda memasukkan angka.\")\n",
        "\n",
        "\n",
        "# Memanggil fungsi BMI_Calculator untuk menjalankan program\n",
        "BMI_Calculator()\n"
      ],
      "metadata": {
        "colab": {
          "base_uri": "https://localhost:8080/"
        },
        "id": "JEHhFcIv_129",
        "outputId": "0dd25dfc-9eee-45ef-d2ee-8361f54e332d"
      },
      "execution_count": null,
      "outputs": [
        {
          "output_type": "stream",
          "name": "stdout",
          "text": [
            "Masukkan Tinggi Badan (cm):\n",
            "160\n",
            "Masukkan Berat Badan (kg):\n",
            "60\n",
            "Nilai BMI Anda adalah: 23.44\n"
          ]
        }
      ]
    },
    {
      "cell_type": "markdown",
      "source": [
        "1. Codingan ini menerima input berat badan dan tinggi badan dari pengguna\n",
        "2. BMI dihitung menggunakan fungsi (hitung_bmi)\n",
        "3. Hasil BMI ditampilkan dengan 2 angka desimal\n"
      ],
      "metadata": {
        "id": "ZGpfCjCO-s7s"
      }
    },
    {
      "cell_type": "markdown",
      "source": [
        "#4. Menampilkan status dalam dataset\n"
      ],
      "metadata": {
        "id": "S7MfwvDZkhEs"
      }
    },
    {
      "cell_type": "markdown",
      "source": [
        "Dari dataframe soal No. 2, buatlah status BMI untuk setiap siswa dari kategori berikut, lalu simpan data statusnya dengan nama kolom Status BMI.\n",
        "\n",
        "Normal: 18.5-24.9\n",
        "\n",
        "Overweight: 25.0-29.9\n",
        "\n",
        "Obesity: 30.0-34.9\n",
        "\n",
        "Underweight: <18.5"
      ],
      "metadata": {
        "id": "xDuMELRSOy-6"
      }
    },
    {
      "cell_type": "markdown",
      "source": [
        "#Menggunakan IF ELSE"
      ],
      "metadata": {
        "id": "5Gb3JdwJn5nP"
      }
    },
    {
      "cell_type": "code",
      "source": [
        "#Fungsi Status_BMI\n",
        "def Status_BMI(df):\n",
        "    Status_BMI = []\n",
        "    for BMI in df['BMI']:\n",
        "        if BMI < 18.5:\n",
        "            Status_BMI.append('Underweight')\n",
        "        elif 18.5 <= BMI <= 24.9:\n",
        "            Status_BMI.append('Normal')\n",
        "        elif 25.0 <= BMI <= 29.9:\n",
        "            Status_BMI.append('Overweight')\n",
        "        elif BMI >= 30.0:\n",
        "            Status_BMI.append('Obesity')\n",
        "        else:\n",
        "            Status_BMI.append('Unknown')\n",
        "\n",
        "    df['Status BMI'] = Status_BMI\n",
        "    return df\n",
        "\n",
        "# Menambahkan Status BMI ke DataFrame\n",
        "df = Status_BMI(df)\n",
        "\n",
        "# Menampilkan DataFrame\n",
        "print(df)"
      ],
      "metadata": {
        "colab": {
          "base_uri": "https://localhost:8080/"
        },
        "id": "HxLXcsnM_7wz",
        "outputId": "04b6ad0a-3449-46f5-c057-1e20785fb324"
      },
      "execution_count": null,
      "outputs": [
        {
          "output_type": "stream",
          "name": "stdout",
          "text": [
            "   No. Peserta                           Nama                   Jurusan  \\\n",
            "0      DS70222         Retno Sari Sirotujanah               Informatika   \n",
            "1      DS70205     Aldy Iriansyah Syarifuddin        Teknik Informatika   \n",
            "2      DS70218   Muhammad Rizki Irawan Wijaya             Ilmu Komputer   \n",
            "3      DS70202     Achmad Nurs Syururi Arifin  D4 Manajemen Informatika   \n",
            "4      DS70209                Crisvane Dinda              Ilmu Ekonomi    \n",
            "5      DS70217              Melati Anggiasari                Statistika   \n",
            "6      DS70206               Anggie Maesyaroh               Informatika   \n",
            "7      DS70221             Puteri Elisabeth P        Teknik Informatika   \n",
            "8      DS70219                   Nazwa Nabila          Sistem Informasi   \n",
            "9      DS70212                         Amalia             Ilmu Komputer   \n",
            "10     DS70224                  Stepanus Malo        Teknik Informatika   \n",
            "11     DS70220   Pandu Giswantoro Abhi Wiguno       Teknologi Informasi   \n",
            "12     DS70213                           Lisa              Ilmu Ekonomi   \n",
            "13     DS70201                    Abdul Hafiz               Informatika   \n",
            "14     DS70207                Ayrisa Trianida               Informatika   \n",
            "15     DS70203            Afif Fadhil Mahmudi        Teknik Informatika   \n",
            "16     DS70211                   Fiari Rahman        Teknik Informatika   \n",
            "17     DS70208           Cisa Nada Salsabilla     Pendidikan Matematika   \n",
            "18     DS70216                 Meilisa Triana          Sistem Informasi   \n",
            "19     DS70214         Lu'lu' Mudhiah Adilah        Teknik Informatika    \n",
            "20     DS70225                 Taufiqurrohman          Sistem Informasi   \n",
            "21     DS70210          Devita Hasnasya Rahma          Sistem Informasi   \n",
            "22     DS70215  M. Riziq Sirfatullah Alfarizi             ilmu komputer   \n",
            "23     DS70204             Afsha Alifia Putri        Teknik Informatika   \n",
            "24     DS70223                 Safinatunnajah        Teknik Informatika   \n",
            "\n",
            "    Berat Badan (Kg)  Tinggi Badan (Cm)  Tinggi Badan (M)    BMI   Status BMI  \n",
            "0                 63                160              1.60  24.61       Normal  \n",
            "1                 55                168              1.68  19.49       Normal  \n",
            "2                100                176              1.76  32.28      Obesity  \n",
            "3                 68                180              1.80  20.99       Normal  \n",
            "4                 70                160              1.60  27.34   Overweight  \n",
            "5                 46                156              1.56  18.90       Normal  \n",
            "6                 78                162              1.62  29.72   Overweight  \n",
            "7                 54                160              1.60  21.09       Normal  \n",
            "8                 45                153              1.53  19.22       Normal  \n",
            "9                 46                149              1.49  20.72       Normal  \n",
            "10                54                160              1.60  21.09       Normal  \n",
            "11                70                172              1.72  23.66       Normal  \n",
            "12                51                162              1.62  19.43       Normal  \n",
            "13               110                175              1.75  35.92      Obesity  \n",
            "14                58                165              1.65  21.30       Normal  \n",
            "15                51                171              1.71  17.44  Underweight  \n",
            "16                80                178              1.78  25.25   Overweight  \n",
            "17                60                163              1.63  22.58       Normal  \n",
            "18                45                150              1.50  20.00       Normal  \n",
            "19                65                160              1.60  25.39   Overweight  \n",
            "20                65                157              1.57  26.37   Overweight  \n",
            "21                43                150              1.50  19.11       Normal  \n",
            "22                45                162              1.62  17.15  Underweight  \n",
            "23                45                158              1.58  18.03  Underweight  \n",
            "24                44                153              1.53  18.80       Normal  \n"
          ]
        }
      ]
    },
    {
      "cell_type": "markdown",
      "source": [
        "1. Fungsi status_BMI menghitung status bmi untuk setiap indivisu berdasarkan nilai BMI mereka.\n",
        "2. Program ini menampilkan dataframe lengkap dengan status BMI setelah perhitungan"
      ],
      "metadata": {
        "id": "0XaG82Ke_GDk"
      }
    },
    {
      "cell_type": "markdown",
      "source": [
        "#Menggunakan np.where"
      ],
      "metadata": {
        "id": "CG3jxlGD8YXV"
      }
    },
    {
      "cell_type": "code",
      "source": [
        "import numpy as np\n",
        "\n",
        "#Fungsi Status_BMI\n",
        "def Status_BMI(df):\n",
        "    df['Status_BMI'] =    np.where(df['BMI'] < 18.5, 'Underweight',\n",
        "                          np.where((df['BMI'] >= 18.5) & (df['BMI'] <= 24.9), 'Normal',\n",
        "                          np.where((df['BMI'] >= 25.0) & (df['BMI'] <= 29.9), 'Overweight',\n",
        "                          np.where(df['BMI'] >= 30.0, 'Obesity', 'Unknown'))))\n",
        "    return df\n",
        "\n",
        "# Menambahkan Status BMI ke DataFrame\n",
        "df = Status_BMI(df)\n",
        "\n",
        "# Menampilkan DataFrame\n",
        "print(df)"
      ],
      "metadata": {
        "colab": {
          "base_uri": "https://localhost:8080/"
        },
        "id": "NVGePN6E8WK1",
        "outputId": "0cd545a5-33fc-4486-eb7a-fc1e2d2638f2"
      },
      "execution_count": null,
      "outputs": [
        {
          "output_type": "stream",
          "name": "stdout",
          "text": [
            "   No. Peserta                           Nama                   Jurusan  \\\n",
            "0      DS70222         Retno Sari Sirotujanah               Informatika   \n",
            "1      DS70205     Aldy Iriansyah Syarifuddin        Teknik Informatika   \n",
            "2      DS70218   Muhammad Rizki Irawan Wijaya             Ilmu Komputer   \n",
            "3      DS70202     Achmad Nurs Syururi Arifin  D4 Manajemen Informatika   \n",
            "4      DS70209                Crisvane Dinda              Ilmu Ekonomi    \n",
            "5      DS70217              Melati Anggiasari                Statistika   \n",
            "6      DS70206               Anggie Maesyaroh               Informatika   \n",
            "7      DS70221             Puteri Elisabeth P        Teknik Informatika   \n",
            "8      DS70219                   Nazwa Nabila          Sistem Informasi   \n",
            "9      DS70212                         Amalia             Ilmu Komputer   \n",
            "10     DS70224                  Stepanus Malo        Teknik Informatika   \n",
            "11     DS70220   Pandu Giswantoro Abhi Wiguno       Teknologi Informasi   \n",
            "12     DS70213                           Lisa              Ilmu Ekonomi   \n",
            "13     DS70201                    Abdul Hafiz               Informatika   \n",
            "14     DS70207                Ayrisa Trianida               Informatika   \n",
            "15     DS70203            Afif Fadhil Mahmudi        Teknik Informatika   \n",
            "16     DS70211                   Fiari Rahman        Teknik Informatika   \n",
            "17     DS70208           Cisa Nada Salsabilla     Pendidikan Matematika   \n",
            "18     DS70216                 Meilisa Triana          Sistem Informasi   \n",
            "19     DS70214         Lu'lu' Mudhiah Adilah        Teknik Informatika    \n",
            "20     DS70225                 Taufiqurrohman          Sistem Informasi   \n",
            "21     DS70210          Devita Hasnasya Rahma          Sistem Informasi   \n",
            "22     DS70215  M. Riziq Sirfatullah Alfarizi             ilmu komputer   \n",
            "23     DS70204             Afsha Alifia Putri        Teknik Informatika   \n",
            "24     DS70223                 Safinatunnajah        Teknik Informatika   \n",
            "\n",
            "    Berat Badan (Kg)  Tinggi Badan (Cm)  Tinggi Badan (M)    BMI   Status BMI  \\\n",
            "0                 63                160              1.60  24.61       Normal   \n",
            "1                 55                168              1.68  19.49       Normal   \n",
            "2                100                176              1.76  32.28      Obesity   \n",
            "3                 68                180              1.80  20.99       Normal   \n",
            "4                 70                160              1.60  27.34   Overweight   \n",
            "5                 46                156              1.56  18.90       Normal   \n",
            "6                 78                162              1.62  29.72   Overweight   \n",
            "7                 54                160              1.60  21.09       Normal   \n",
            "8                 45                153              1.53  19.22       Normal   \n",
            "9                 46                149              1.49  20.72       Normal   \n",
            "10                54                160              1.60  21.09       Normal   \n",
            "11                70                172              1.72  23.66       Normal   \n",
            "12                51                162              1.62  19.43       Normal   \n",
            "13               110                175              1.75  35.92      Obesity   \n",
            "14                58                165              1.65  21.30       Normal   \n",
            "15                51                171              1.71  17.44  Underweight   \n",
            "16                80                178              1.78  25.25   Overweight   \n",
            "17                60                163              1.63  22.58       Normal   \n",
            "18                45                150              1.50  20.00       Normal   \n",
            "19                65                160              1.60  25.39   Overweight   \n",
            "20                65                157              1.57  26.37   Overweight   \n",
            "21                43                150              1.50  19.11       Normal   \n",
            "22                45                162              1.62  17.15  Underweight   \n",
            "23                45                158              1.58  18.03  Underweight   \n",
            "24                44                153              1.53  18.80       Normal   \n",
            "\n",
            "     Status_BMI  \n",
            "0        Normal  \n",
            "1        Normal  \n",
            "2       Obesity  \n",
            "3        Normal  \n",
            "4    Overweight  \n",
            "5        Normal  \n",
            "6    Overweight  \n",
            "7        Normal  \n",
            "8        Normal  \n",
            "9        Normal  \n",
            "10       Normal  \n",
            "11       Normal  \n",
            "12       Normal  \n",
            "13      Obesity  \n",
            "14       Normal  \n",
            "15  Underweight  \n",
            "16   Overweight  \n",
            "17       Normal  \n",
            "18       Normal  \n",
            "19   Overweight  \n",
            "20   Overweight  \n",
            "21       Normal  \n",
            "22  Underweight  \n",
            "23  Underweight  \n",
            "24       Normal  \n"
          ]
        }
      ]
    },
    {
      "cell_type": "markdown",
      "source": [
        "#5. Mengurutkan Tinggi badan dari tertinggi ke terendah\n"
      ],
      "metadata": {
        "id": "4CRez1Jvkmbn"
      }
    },
    {
      "cell_type": "markdown",
      "source": [
        "a. Salin dataframe no. 4 dan beri nama df_tinggi, lalu urutkan data berdasarkan tinggi badan dari yang tertinggi ke rendah.\n",
        "\n"
      ],
      "metadata": {
        "id": "zLa0hoAYO3ma"
      }
    },
    {
      "cell_type": "code",
      "source": [
        "df_tinggi = df[['Nama', 'Jurusan','Tinggi Badan (Cm)']].copy()\n",
        "\n",
        "df_tinggi = df_tinggi.sort_values(by='Tinggi Badan (Cm)', ascending=False)\n",
        "\n",
        "# Menampilkan DataFrame df_tinggi\n",
        "print(df_tinggi)"
      ],
      "metadata": {
        "colab": {
          "base_uri": "https://localhost:8080/"
        },
        "id": "BFdq38EJEURn",
        "outputId": "8124636c-b33e-4710-8471-3f0ff867847c"
      },
      "execution_count": null,
      "outputs": [
        {
          "output_type": "stream",
          "name": "stdout",
          "text": [
            "                             Nama                   Jurusan  Tinggi Badan (Cm)\n",
            "3      Achmad Nurs Syururi Arifin  D4 Manajemen Informatika                180\n",
            "16                   Fiari Rahman        Teknik Informatika                178\n",
            "2    Muhammad Rizki Irawan Wijaya             Ilmu Komputer                176\n",
            "13                    Abdul Hafiz               Informatika                175\n",
            "11   Pandu Giswantoro Abhi Wiguno       Teknologi Informasi                172\n",
            "15            Afif Fadhil Mahmudi        Teknik Informatika                171\n",
            "1      Aldy Iriansyah Syarifuddin        Teknik Informatika                168\n",
            "14                Ayrisa Trianida               Informatika                165\n",
            "17           Cisa Nada Salsabilla     Pendidikan Matematika                163\n",
            "12                           Lisa              Ilmu Ekonomi                162\n",
            "22  M. Riziq Sirfatullah Alfarizi             ilmu komputer                162\n",
            "6                Anggie Maesyaroh               Informatika                162\n",
            "19         Lu'lu' Mudhiah Adilah        Teknik Informatika                 160\n",
            "0          Retno Sari Sirotujanah               Informatika                160\n",
            "10                  Stepanus Malo        Teknik Informatika                160\n",
            "7              Puteri Elisabeth P        Teknik Informatika                160\n",
            "4                 Crisvane Dinda              Ilmu Ekonomi                 160\n",
            "23             Afsha Alifia Putri        Teknik Informatika                158\n",
            "20                 Taufiqurrohman          Sistem Informasi                157\n",
            "5               Melati Anggiasari                Statistika                156\n",
            "8                    Nazwa Nabila          Sistem Informasi                153\n",
            "24                 Safinatunnajah        Teknik Informatika                153\n",
            "18                 Meilisa Triana          Sistem Informasi                150\n",
            "21          Devita Hasnasya Rahma          Sistem Informasi                150\n",
            "9                          Amalia             Ilmu Komputer                149\n"
          ]
        }
      ]
    },
    {
      "cell_type": "markdown",
      "source": [
        "1. kodingan ini akan mengsortir kolom tinggi badan\n",
        "2. hasil yang diatampilkan data tinggi badan dari tertinggi hingga terendah"
      ],
      "metadata": {
        "id": "E8JbQlLJ_4AY"
      }
    },
    {
      "cell_type": "markdown",
      "source": [
        "#Mengurutkan berdasarkan nama dari Z-A"
      ],
      "metadata": {
        "id": "NLfJTkm-kxcy"
      }
    },
    {
      "cell_type": "code",
      "source": [
        "df_tinggi = df[['Nama', 'Jurusan']].copy()\n",
        "\n",
        "df_tinggi = df_tinggi.sort_values(by='Nama', ascending=False)\n",
        "\n",
        "# Menampilkan DataFrame df_tinggi\n",
        "print(df_tinggi)"
      ],
      "metadata": {
        "colab": {
          "base_uri": "https://localhost:8080/"
        },
        "id": "__krGa9AAFv1",
        "outputId": "bd8cb1c4-4d56-4360-ec61-95ea9d8f1f07"
      },
      "execution_count": null,
      "outputs": [
        {
          "output_type": "stream",
          "name": "stdout",
          "text": [
            "                             Nama                   Jurusan\n",
            "20                 Taufiqurrohman          Sistem Informasi\n",
            "10                  Stepanus Malo        Teknik Informatika\n",
            "24                 Safinatunnajah        Teknik Informatika\n",
            "0          Retno Sari Sirotujanah               Informatika\n",
            "7              Puteri Elisabeth P        Teknik Informatika\n",
            "11   Pandu Giswantoro Abhi Wiguno       Teknologi Informasi\n",
            "8                    Nazwa Nabila          Sistem Informasi\n",
            "2    Muhammad Rizki Irawan Wijaya             Ilmu Komputer\n",
            "5               Melati Anggiasari                Statistika\n",
            "18                 Meilisa Triana          Sistem Informasi\n",
            "22  M. Riziq Sirfatullah Alfarizi             ilmu komputer\n",
            "19         Lu'lu' Mudhiah Adilah        Teknik Informatika \n",
            "12                           Lisa              Ilmu Ekonomi\n",
            "16                   Fiari Rahman        Teknik Informatika\n",
            "21          Devita Hasnasya Rahma          Sistem Informasi\n",
            "4                 Crisvane Dinda              Ilmu Ekonomi \n",
            "17           Cisa Nada Salsabilla     Pendidikan Matematika\n",
            "14                Ayrisa Trianida               Informatika\n",
            "6                Anggie Maesyaroh               Informatika\n",
            "9                          Amalia             Ilmu Komputer\n",
            "1      Aldy Iriansyah Syarifuddin        Teknik Informatika\n",
            "23             Afsha Alifia Putri        Teknik Informatika\n",
            "15            Afif Fadhil Mahmudi        Teknik Informatika\n",
            "3      Achmad Nurs Syururi Arifin  D4 Manajemen Informatika\n",
            "13                    Abdul Hafiz               Informatika\n"
          ]
        }
      ]
    },
    {
      "cell_type": "markdown",
      "source": [
        "1. kodingan ini akan mengsortir kolom nama\n",
        "2. hasil yang ditampilakan nama dengan urutan abjad dari Z-A"
      ],
      "metadata": {
        "id": "BQTUS2DSBnnb"
      }
    },
    {
      "cell_type": "markdown",
      "source": [
        "# 6. Filter status dataframe"
      ],
      "metadata": {
        "id": "GhwzR9eylURu"
      }
    },
    {
      "cell_type": "markdown",
      "source": [
        "# a. Status BMI diluar Normal"
      ],
      "metadata": {
        "id": "e5NrEpG6lap8"
      }
    },
    {
      "cell_type": "code",
      "source": [
        "import pandas as pd\n",
        "\n",
        "#Fungsi Status_BMI\n",
        "def Status_BMI(df):\n",
        "    Status_BMI = []\n",
        "    for BMI in df['BMI']:\n",
        "        if BMI < 18.5:\n",
        "            Status_BMI.append('Underweight')\n",
        "        elif 18.5 <= BMI <= 24.9:\n",
        "            Status_BMI.append('Normal')\n",
        "        elif 25.0 <= BMI <= 29.9:\n",
        "            Status_BMI.append('Overweight')\n",
        "        elif BMI >= 30.0:\n",
        "            Status_BMI.append('Obesity')\n",
        "        else:\n",
        "            Status_BMI.append('Unknown')\n",
        "\n",
        "    df['Status BMI'] = Status_BMI\n",
        "    return df\n",
        "\n",
        "# Menambahkan Status BMI ke DataFrame\n",
        "df = Status_BMI(df)\n",
        "\n",
        "# Filter untuk mendapatkan orang dengan BMI lebih dari Normal\n",
        "df_Overweight = df[df['BMI'] > 24.9]\n",
        "\n",
        "# Menampilkan DataFrame yang difilter\n",
        "print(\"Orang dengan BMI lebih dari 25:\")\n",
        "print(df_Overweight)\n"
      ],
      "metadata": {
        "colab": {
          "base_uri": "https://localhost:8080/"
        },
        "id": "Pegm55a1AJX3",
        "outputId": "1e980426-9e63-471a-b317-d788ea8bc1a4"
      },
      "execution_count": null,
      "outputs": [
        {
          "output_type": "stream",
          "name": "stdout",
          "text": [
            "Orang dengan BMI lebih dari 25:\n",
            "   No. Peserta                          Nama              Jurusan  \\\n",
            "2      DS70218  Muhammad Rizki Irawan Wijaya        Ilmu Komputer   \n",
            "4      DS70209               Crisvane Dinda         Ilmu Ekonomi    \n",
            "6      DS70206              Anggie Maesyaroh          Informatika   \n",
            "13     DS70201                   Abdul Hafiz          Informatika   \n",
            "16     DS70211                  Fiari Rahman   Teknik Informatika   \n",
            "19     DS70214        Lu'lu' Mudhiah Adilah   Teknik Informatika    \n",
            "20     DS70225                Taufiqurrohman     Sistem Informasi   \n",
            "\n",
            "    Berat Badan (Kg)  Tinggi Badan (Cm)  Tinggi Badan (M)    BMI  Status BMI  \\\n",
            "2                100                176              1.76  32.28     Obesity   \n",
            "4                 70                160              1.60  27.34  Overweight   \n",
            "6                 78                162              1.62  29.72  Overweight   \n",
            "13               110                175              1.75  35.92     Obesity   \n",
            "16                80                178              1.78  25.25  Overweight   \n",
            "19                65                160              1.60  25.39  Overweight   \n",
            "20                65                157              1.57  26.37  Overweight   \n",
            "\n",
            "    Status_BMI  \n",
            "2      Obesity  \n",
            "4   Overweight  \n",
            "6   Overweight  \n",
            "13     Obesity  \n",
            "16  Overweight  \n",
            "19  Overweight  \n",
            "20  Overweight  \n"
          ]
        }
      ]
    },
    {
      "cell_type": "markdown",
      "source": [
        "1. Kodingan ini berfungsi untuk mengfilter dan menampilakan data individu berdasarkan status BMI\n",
        "2. Hasil yang ditampilan untuk analisis tentang status kesehatan berdasarkan BMI dengan\n",
        "\n",
        "Underweight: BMI < 18.5\n",
        "\n",
        "Normal: 18.5 ≤ BMI ≤ 24.9\n",
        "\n",
        "Overweight: 25.0 ≤ BMI ≤ 29.9\n",
        "\n",
        "Obesity: BMI ≥ 30.0"
      ],
      "metadata": {
        "id": "jgM29TuRB6W2"
      }
    },
    {
      "cell_type": "markdown",
      "source": [
        "#b. Tinggi Badan > 169 cm dan Berat Badan > 60 kg"
      ],
      "metadata": {
        "id": "8qoSiyHWlg1T"
      }
    },
    {
      "cell_type": "code",
      "source": [
        "import pandas as pd\n",
        "\n",
        "#Fungsi Status_BMI\n",
        "def Status_BMI(df):\n",
        "    Status_BMI = []\n",
        "    for BMI in df['BMI']:\n",
        "        if BMI < 18.5:\n",
        "            Status_BMI.append('Underweight')\n",
        "        elif 18.5 <= BMI <= 24.9:\n",
        "            Status_BMI.append('Normal')\n",
        "        elif 25.0 <= BMI <= 29.9:\n",
        "            Status_BMI.append('Overweight')\n",
        "        elif BMI >= 30.0:\n",
        "            Status_BMI.append('Obesity')\n",
        "        else:\n",
        "            Status_BMI.append('Unknown')\n",
        "\n",
        "    df['Status BMI'] = Status_BMI\n",
        "    return df\n",
        "\n",
        "# Menambahkan Status BMI ke DataFrame\n",
        "df = Status_BMI(df)\n",
        "\n",
        "# Filter untuk mendapatkan orang dengan Tinggi Badan > 169 Cm & Berat Badan > 60 Kg\n",
        "df_star = df[(df['Tinggi Badan (Cm)'] > 169) & (df['Berat Badan (Kg)'] > 60)]\n",
        "\n",
        "# Menampilkan DataFrame yang difilter\n",
        "print(\"Orang dengan Tinggi Badan > 169 CM dan Berat Badan > 60 KG:\")\n",
        "print(df_star)"
      ],
      "metadata": {
        "colab": {
          "base_uri": "https://localhost:8080/"
        },
        "id": "t8sHXmTnANne",
        "outputId": "d1920500-3d98-4fe9-a2a9-998ddce8e8d3"
      },
      "execution_count": null,
      "outputs": [
        {
          "output_type": "stream",
          "name": "stdout",
          "text": [
            "Orang dengan Tinggi Badan > 169 CM dan Berat Badan > 60 KG:\n",
            "   No. Peserta                          Nama                   Jurusan  \\\n",
            "2      DS70218  Muhammad Rizki Irawan Wijaya             Ilmu Komputer   \n",
            "3      DS70202    Achmad Nurs Syururi Arifin  D4 Manajemen Informatika   \n",
            "11     DS70220  Pandu Giswantoro Abhi Wiguno       Teknologi Informasi   \n",
            "13     DS70201                   Abdul Hafiz               Informatika   \n",
            "16     DS70211                  Fiari Rahman        Teknik Informatika   \n",
            "\n",
            "    Berat Badan (Kg)  Tinggi Badan (Cm)  Tinggi Badan (M)    BMI  Status BMI  \\\n",
            "2                100                176              1.76  32.28     Obesity   \n",
            "3                 68                180              1.80  20.99      Normal   \n",
            "11                70                172              1.72  23.66      Normal   \n",
            "13               110                175              1.75  35.92     Obesity   \n",
            "16                80                178              1.78  25.25  Overweight   \n",
            "\n",
            "    Status_BMI  \n",
            "2      Obesity  \n",
            "3       Normal  \n",
            "11      Normal  \n",
            "13     Obesity  \n",
            "16  Overweight  \n"
          ]
        }
      ]
    },
    {
      "cell_type": "markdown",
      "source": [
        "1. Kodingan ini memfilter data berdasarkan tinggi badan > 169 dan berat bdan >60 kg\n",
        "2. Hasil yang ditampilkan nama data yang sudah dimfilter"
      ],
      "metadata": {
        "id": "3wuXkGsdCUvj"
      }
    },
    {
      "cell_type": "markdown",
      "source": [
        "#c. Nama yang mengandung huruf \"y\"."
      ],
      "metadata": {
        "id": "16324n0Uln1Q"
      }
    },
    {
      "cell_type": "code",
      "source": [
        "import pandas as pd\n",
        "\n",
        "#Fungsi Status_BMI\n",
        "def Status_BMI(df):\n",
        "    Status_BMI = []\n",
        "    for BMI in df['BMI']:\n",
        "        if BMI < 18.5:\n",
        "            Status_BMI.append('Underweight')\n",
        "        elif 18.5 <= BMI <= 24.9:\n",
        "            Status_BMI.append('Normal')\n",
        "        elif 25.0 <= BMI <= 29.9:\n",
        "            Status_BMI.append('Overweight')\n",
        "        elif BMI >= 30.0:\n",
        "            Status_BMI.append('Obesity')\n",
        "        else:\n",
        "            Status_BMI.append('Unknown')\n",
        "\n",
        "    df['Status BMI'] = Status_BMI\n",
        "    return df\n",
        "\n",
        "# Menambahkan Status BMI ke DataFrame\n",
        "df = Status_BMI(df)\n",
        "\n",
        "# Filter untuk mendapatkan nama orang yang mengandung huruf \"y\"\n",
        "df_huruf = df[df['Nama'].str.contains('y', case=False)]\n",
        "\n",
        "# Menampilkan DataFrame yang difilter\n",
        "print(\"Orang yang namanya mengandung huruf 'y':\")\n",
        "print(df_huruf)\n"
      ],
      "metadata": {
        "colab": {
          "base_uri": "https://localhost:8080/"
        },
        "id": "NBC_ORK4AURh",
        "outputId": "bd36e969-0de5-49d0-f427-7f0d000cf41f"
      },
      "execution_count": null,
      "outputs": [
        {
          "output_type": "stream",
          "name": "stdout",
          "text": [
            "Orang yang namanya mengandung huruf 'y':\n",
            "   No. Peserta                          Nama                   Jurusan  \\\n",
            "1      DS70205    Aldy Iriansyah Syarifuddin        Teknik Informatika   \n",
            "2      DS70218  Muhammad Rizki Irawan Wijaya             Ilmu Komputer   \n",
            "3      DS70202    Achmad Nurs Syururi Arifin  D4 Manajemen Informatika   \n",
            "6      DS70206              Anggie Maesyaroh               Informatika   \n",
            "14     DS70207               Ayrisa Trianida               Informatika   \n",
            "21     DS70210         Devita Hasnasya Rahma          Sistem Informasi   \n",
            "\n",
            "    Berat Badan (Kg)  Tinggi Badan (Cm)  Tinggi Badan (M)    BMI  Status BMI  \\\n",
            "1                 55                168              1.68  19.49      Normal   \n",
            "2                100                176              1.76  32.28     Obesity   \n",
            "3                 68                180              1.80  20.99      Normal   \n",
            "6                 78                162              1.62  29.72  Overweight   \n",
            "14                58                165              1.65  21.30      Normal   \n",
            "21                43                150              1.50  19.11      Normal   \n",
            "\n",
            "    Status_BMI  \n",
            "1       Normal  \n",
            "2      Obesity  \n",
            "3       Normal  \n",
            "6   Overweight  \n",
            "14      Normal  \n",
            "21      Normal  \n"
          ]
        }
      ]
    },
    {
      "cell_type": "markdown",
      "source": [
        "1. Kodingan memfilter berdasarkan nama yang mengandung hruf 'y'\n",
        "2. Hasil kodingan menampilakan data yang mengandung huruf 'y'"
      ],
      "metadata": {
        "id": "nXqUVs0jCmGc"
      }
    },
    {
      "cell_type": "markdown",
      "source": [
        "#d. Siapa saja yang berat badannya kurang dari 60 kg?"
      ],
      "metadata": {
        "id": "FPln5mM2lsai"
      }
    },
    {
      "cell_type": "code",
      "source": [
        "import pandas as pd\n",
        "\n",
        "#Fungsi Status_BMI\n",
        "def Status_BMI(df):\n",
        "    Status_BMI = []\n",
        "    for BMI in df['BMI']:\n",
        "        if BMI < 18.5:\n",
        "            Status_BMI.append('Underweight')\n",
        "        elif 18.5 <= BMI <= 24.9:\n",
        "            Status_BMI.append('Normal')\n",
        "        elif 25.0 <= BMI <= 29.9:\n",
        "            Status_BMI.append('Overweight')\n",
        "        elif BMI >= 30.0:\n",
        "            Status_BMI.append('Obesity')\n",
        "        else:\n",
        "            Status_BMI.append('Unknown')\n",
        "\n",
        "    df['Status BMI'] = Status_BMI\n",
        "    return df\n",
        "\n",
        "# Menambahkan Status BMI ke DataFrame\n",
        "df = Status_BMI(df)\n",
        "\n",
        "# Filter untuk mendapatkan orang dengan Berat Badan < 60 Kg\n",
        "df_weight = df[(df['Berat Badan (Kg)'] < 60)]\n",
        "\n",
        "# Menampilkan DataFrame yang difilter\n",
        "print(\"Orang dengan Tinggi Badan Berat Badan < 60 KG:\")\n",
        "print(df_weight)"
      ],
      "metadata": {
        "colab": {
          "base_uri": "https://localhost:8080/"
        },
        "id": "l-i1QeDjAX_l",
        "outputId": "bb5dc331-e95d-4576-c0d8-3fed89b4c086"
      },
      "execution_count": null,
      "outputs": [
        {
          "output_type": "stream",
          "name": "stdout",
          "text": [
            "Orang dengan Tinggi Badan Berat Badan < 60 KG:\n",
            "   No. Peserta                           Nama             Jurusan  \\\n",
            "1      DS70205     Aldy Iriansyah Syarifuddin  Teknik Informatika   \n",
            "5      DS70217              Melati Anggiasari          Statistika   \n",
            "7      DS70221             Puteri Elisabeth P  Teknik Informatika   \n",
            "8      DS70219                   Nazwa Nabila    Sistem Informasi   \n",
            "9      DS70212                         Amalia       Ilmu Komputer   \n",
            "10     DS70224                  Stepanus Malo  Teknik Informatika   \n",
            "12     DS70213                           Lisa        Ilmu Ekonomi   \n",
            "14     DS70207                Ayrisa Trianida         Informatika   \n",
            "15     DS70203            Afif Fadhil Mahmudi  Teknik Informatika   \n",
            "18     DS70216                 Meilisa Triana    Sistem Informasi   \n",
            "21     DS70210          Devita Hasnasya Rahma    Sistem Informasi   \n",
            "22     DS70215  M. Riziq Sirfatullah Alfarizi       ilmu komputer   \n",
            "23     DS70204             Afsha Alifia Putri  Teknik Informatika   \n",
            "24     DS70223                 Safinatunnajah  Teknik Informatika   \n",
            "\n",
            "    Berat Badan (Kg)  Tinggi Badan (Cm)  Tinggi Badan (M)    BMI   Status BMI  \\\n",
            "1                 55                168              1.68  19.49       Normal   \n",
            "5                 46                156              1.56  18.90       Normal   \n",
            "7                 54                160              1.60  21.09       Normal   \n",
            "8                 45                153              1.53  19.22       Normal   \n",
            "9                 46                149              1.49  20.72       Normal   \n",
            "10                54                160              1.60  21.09       Normal   \n",
            "12                51                162              1.62  19.43       Normal   \n",
            "14                58                165              1.65  21.30       Normal   \n",
            "15                51                171              1.71  17.44  Underweight   \n",
            "18                45                150              1.50  20.00       Normal   \n",
            "21                43                150              1.50  19.11       Normal   \n",
            "22                45                162              1.62  17.15  Underweight   \n",
            "23                45                158              1.58  18.03  Underweight   \n",
            "24                44                153              1.53  18.80       Normal   \n",
            "\n",
            "     Status_BMI  \n",
            "1        Normal  \n",
            "5        Normal  \n",
            "7        Normal  \n",
            "8        Normal  \n",
            "9        Normal  \n",
            "10       Normal  \n",
            "12       Normal  \n",
            "14       Normal  \n",
            "15  Underweight  \n",
            "18       Normal  \n",
            "21       Normal  \n",
            "22  Underweight  \n",
            "23  Underweight  \n",
            "24       Normal  \n"
          ]
        }
      ]
    },
    {
      "cell_type": "markdown",
      "source": [
        "1. Kodingan memfilter data yang memiliki berat badan < 60\n",
        "2. output yang dihasilkan nama-nama yang memiliki berat badan < 60"
      ],
      "metadata": {
        "id": "TBjoEu8qCxr0"
      }
    },
    {
      "cell_type": "markdown",
      "source": [
        "#7. Menambahkan nomor urut"
      ],
      "metadata": {
        "id": "cOy8hiyul0Mo"
      }
    },
    {
      "cell_type": "code",
      "source": [
        "import pandas as pd\n",
        "\n",
        "#Fungsi Status_BMI\n",
        "def Status_BMI(df):\n",
        "    Status_BMI = []\n",
        "    for BMI in df['BMI']:\n",
        "        if BMI < 18.5:\n",
        "            Status_BMI.append('Underweight')\n",
        "        elif 18.5 <= BMI <= 24.9:\n",
        "            Status_BMI.append('Normal')\n",
        "        elif 25.0 <= BMI <= 29.9:\n",
        "            Status_BMI.append('Overweight')\n",
        "        elif BMI >= 30.0:\n",
        "            Status_BMI.append('Obesity')\n",
        "        else:\n",
        "            Status_BMI.append('Unknown')\n",
        "\n",
        "    df['Status BMI'] = Status_BMI\n",
        "    return df\n",
        "\n",
        "# Menambahkan Status BMI ke DataFrame\n",
        "df = Status_BMI(df)\n",
        "\n",
        "# Menambahkan kolom 'No.' di bagian paling kiri\n",
        "df.insert(0, 'No.', range(1, len(df) + 1))\n",
        "\n",
        "# Menampilkan DataFrame\n",
        "print(df)"
      ],
      "metadata": {
        "colab": {
          "base_uri": "https://localhost:8080/"
        },
        "id": "4KQAabTnAZsu",
        "outputId": "18e38323-a356-42ad-b389-8fad54d93e90"
      },
      "execution_count": null,
      "outputs": [
        {
          "output_type": "stream",
          "name": "stdout",
          "text": [
            "    No. No. Peserta                           Nama                   Jurusan  \\\n",
            "0     1     DS70222         Retno Sari Sirotujanah               Informatika   \n",
            "1     2     DS70205     Aldy Iriansyah Syarifuddin        Teknik Informatika   \n",
            "2     3     DS70218   Muhammad Rizki Irawan Wijaya             Ilmu Komputer   \n",
            "3     4     DS70202     Achmad Nurs Syururi Arifin  D4 Manajemen Informatika   \n",
            "4     5     DS70209                Crisvane Dinda              Ilmu Ekonomi    \n",
            "5     6     DS70217              Melati Anggiasari                Statistika   \n",
            "6     7     DS70206               Anggie Maesyaroh               Informatika   \n",
            "7     8     DS70221             Puteri Elisabeth P        Teknik Informatika   \n",
            "8     9     DS70219                   Nazwa Nabila          Sistem Informasi   \n",
            "9    10     DS70212                         Amalia             Ilmu Komputer   \n",
            "10   11     DS70224                  Stepanus Malo        Teknik Informatika   \n",
            "11   12     DS70220   Pandu Giswantoro Abhi Wiguno       Teknologi Informasi   \n",
            "12   13     DS70213                           Lisa              Ilmu Ekonomi   \n",
            "13   14     DS70201                    Abdul Hafiz               Informatika   \n",
            "14   15     DS70207                Ayrisa Trianida               Informatika   \n",
            "15   16     DS70203            Afif Fadhil Mahmudi        Teknik Informatika   \n",
            "16   17     DS70211                   Fiari Rahman        Teknik Informatika   \n",
            "17   18     DS70208           Cisa Nada Salsabilla     Pendidikan Matematika   \n",
            "18   19     DS70216                 Meilisa Triana          Sistem Informasi   \n",
            "19   20     DS70214         Lu'lu' Mudhiah Adilah        Teknik Informatika    \n",
            "20   21     DS70225                 Taufiqurrohman          Sistem Informasi   \n",
            "21   22     DS70210          Devita Hasnasya Rahma          Sistem Informasi   \n",
            "22   23     DS70215  M. Riziq Sirfatullah Alfarizi             ilmu komputer   \n",
            "23   24     DS70204             Afsha Alifia Putri        Teknik Informatika   \n",
            "24   25     DS70223                 Safinatunnajah        Teknik Informatika   \n",
            "\n",
            "    Berat Badan (Kg)  Tinggi Badan (Cm)  Tinggi Badan (M)    BMI   Status BMI  \\\n",
            "0                 63                160              1.60  24.61       Normal   \n",
            "1                 55                168              1.68  19.49       Normal   \n",
            "2                100                176              1.76  32.28      Obesity   \n",
            "3                 68                180              1.80  20.99       Normal   \n",
            "4                 70                160              1.60  27.34   Overweight   \n",
            "5                 46                156              1.56  18.90       Normal   \n",
            "6                 78                162              1.62  29.72   Overweight   \n",
            "7                 54                160              1.60  21.09       Normal   \n",
            "8                 45                153              1.53  19.22       Normal   \n",
            "9                 46                149              1.49  20.72       Normal   \n",
            "10                54                160              1.60  21.09       Normal   \n",
            "11                70                172              1.72  23.66       Normal   \n",
            "12                51                162              1.62  19.43       Normal   \n",
            "13               110                175              1.75  35.92      Obesity   \n",
            "14                58                165              1.65  21.30       Normal   \n",
            "15                51                171              1.71  17.44  Underweight   \n",
            "16                80                178              1.78  25.25   Overweight   \n",
            "17                60                163              1.63  22.58       Normal   \n",
            "18                45                150              1.50  20.00       Normal   \n",
            "19                65                160              1.60  25.39   Overweight   \n",
            "20                65                157              1.57  26.37   Overweight   \n",
            "21                43                150              1.50  19.11       Normal   \n",
            "22                45                162              1.62  17.15  Underweight   \n",
            "23                45                158              1.58  18.03  Underweight   \n",
            "24                44                153              1.53  18.80       Normal   \n",
            "\n",
            "     Status_BMI  \n",
            "0        Normal  \n",
            "1        Normal  \n",
            "2       Obesity  \n",
            "3        Normal  \n",
            "4    Overweight  \n",
            "5        Normal  \n",
            "6    Overweight  \n",
            "7        Normal  \n",
            "8        Normal  \n",
            "9        Normal  \n",
            "10       Normal  \n",
            "11       Normal  \n",
            "12       Normal  \n",
            "13      Obesity  \n",
            "14       Normal  \n",
            "15  Underweight  \n",
            "16   Overweight  \n",
            "17       Normal  \n",
            "18       Normal  \n",
            "19   Overweight  \n",
            "20   Overweight  \n",
            "21       Normal  \n",
            "22  Underweight  \n",
            "23  Underweight  \n",
            "24       Normal  \n"
          ]
        }
      ]
    },
    {
      "cell_type": "markdown",
      "source": [
        "1. Kodingan digunakan untuk menambahkan nomot urut\n",
        "2. data yang ditampilkan adalah data yang ada nomor urut"
      ],
      "metadata": {
        "id": "d5-UHoeKC8xM"
      }
    },
    {
      "cell_type": "markdown",
      "source": [
        "#8. Mencari nilai-nilai tertentu"
      ],
      "metadata": {
        "id": "7h_1k9hVmnZM"
      }
    },
    {
      "cell_type": "markdown",
      "source": [
        "#A. Berapa nilai rata-rata tinggi badan siswa\n"
      ],
      "metadata": {
        "id": "OFHWdSjYl4AS"
      }
    },
    {
      "cell_type": "code",
      "source": [
        "# Menghitung rata-rata tinggi badan\n",
        "rata_rata_tinggi = df['Tinggi Badan (Cm)'].mean()\n",
        "\n",
        "# Menampilkan hasil\n",
        "print(f\"Rata-rata tinggi badan: {rata_rata_tinggi:.2f} cm\")"
      ],
      "metadata": {
        "colab": {
          "base_uri": "https://localhost:8080/"
        },
        "id": "rq20_d_zAcqf",
        "outputId": "a7b39bae-50e0-4ebe-b0d8-141a84271418"
      },
      "execution_count": null,
      "outputs": [
        {
          "output_type": "stream",
          "name": "stdout",
          "text": [
            "Rata-rata tinggi badan: 162.40 cm\n"
          ]
        }
      ]
    },
    {
      "cell_type": "markdown",
      "source": [
        "1. Kodingan digunakan untuk mencari rata-rata tinggi bada\n",
        "2. output yang dihasilkan tinggi badan rata-rata uaitu = 162.40 cm"
      ],
      "metadata": {
        "id": "w6qZ5zswDG7Z"
      }
    },
    {
      "cell_type": "markdown",
      "source": [
        "#B. Berapa nilal rata-rata tinggi badan siswa?"
      ],
      "metadata": {
        "id": "2JTFgTFLl-v7"
      }
    },
    {
      "cell_type": "code",
      "source": [
        "# Menghitung rata-rata berat badan\n",
        "rata_rata_berat = df['Berat Badan (Kg)'].mean()\n",
        "\n",
        "# Menampilkan hasil\n",
        "print(f\"Rata-rata berat badan: {rata_rata_berat:.2f} kg\")"
      ],
      "metadata": {
        "colab": {
          "base_uri": "https://localhost:8080/"
        },
        "id": "QVOzEMEdAg8B",
        "outputId": "3a7ac0b5-2031-4538-ade5-8662e9d2e7a5"
      },
      "execution_count": null,
      "outputs": [
        {
          "output_type": "stream",
          "name": "stdout",
          "text": [
            "Rata-rata berat badan: 60.44 kg\n"
          ]
        }
      ]
    },
    {
      "cell_type": "markdown",
      "source": [
        "1. Kodingan digunakan untuk mencari rata-rata Berat badan\n",
        "2. output yang dihasilkan Berat badan rata-rata uaitu = 60.44 Kg"
      ],
      "metadata": {
        "id": "KgjS2JivDV45"
      }
    },
    {
      "cell_type": "markdown",
      "source": [
        "# C. Ada berapa orang jumlah siswa yang tercatat pada dataframe df?"
      ],
      "metadata": {
        "id": "PzLEiR0AmG0E"
      }
    },
    {
      "cell_type": "markdown",
      "source": [
        "#Menggunakan count"
      ],
      "metadata": {
        "id": "0FzgjGarod4A"
      }
    },
    {
      "cell_type": "code",
      "source": [
        "# Menghitung Jumlah Siswa\n",
        "Jumlah_Siswa = df['No.'].count()\n",
        "\n",
        "# Menampilkan hasil\n",
        "print(f\"Jumlah Siswa: {Jumlah_Siswa} Orang\")\n"
      ],
      "metadata": {
        "colab": {
          "base_uri": "https://localhost:8080/"
        },
        "id": "bgTPlj5GAnkS",
        "outputId": "704bf9bf-fa2a-4cdb-afb5-71bc91c831b4"
      },
      "execution_count": null,
      "outputs": [
        {
          "output_type": "stream",
          "name": "stdout",
          "text": [
            "Jumlah Siswa: 25 Orang\n"
          ]
        }
      ]
    },
    {
      "cell_type": "markdown",
      "source": [
        "1. kodingan ini digunakan untuk menghitung jumlah siswa yang ada pada data\n",
        "2. output yang dihasilkan jumlah siswa yaitu = 25 orang"
      ],
      "metadata": {
        "id": "l9MtRvZpDcvB"
      }
    },
    {
      "cell_type": "markdown",
      "source": [
        "#Manggunakan len"
      ],
      "metadata": {
        "id": "xayXfpx7olrh"
      }
    },
    {
      "cell_type": "code",
      "source": [
        "# Menghitung Jumlah Siswa menggunakan len()\n",
        "Jumlah_Siswa = len(df)\n",
        "\n",
        "# Menampilkan hasil\n",
        "print(f\"Jumlah Siswa: {Jumlah_Siswa} Orang\")\n"
      ],
      "metadata": {
        "colab": {
          "base_uri": "https://localhost:8080/"
        },
        "id": "cZpfIXZOohW5",
        "outputId": "a669456f-e288-4216-aff5-56d346e65f21"
      },
      "execution_count": null,
      "outputs": [
        {
          "output_type": "stream",
          "name": "stdout",
          "text": [
            "Jumlah Siswa: 25 Orang\n"
          ]
        }
      ]
    },
    {
      "cell_type": "markdown",
      "source": [
        "#D. 5 orang dengan nilai BMI tertinggi."
      ],
      "metadata": {
        "id": "yNiZyITgmNR_"
      }
    },
    {
      "cell_type": "markdown",
      "source": [],
      "metadata": {
        "id": "MNCBPZM6mJV2"
      }
    },
    {
      "cell_type": "code",
      "source": [
        "# Menghitung 5 Siswa dengan BMI Tertinggi\n",
        "Top_BMI = df.nlargest(5, 'BMI')  # Menggunakan tanda kurung ()\n",
        "\n",
        "# Menampilkan hasil\n",
        "print(\"5 Siswa dengan BMI Tertinggi adalah:\")\n",
        "print(Top_BMI[['Nama', 'BMI']])\n"
      ],
      "metadata": {
        "colab": {
          "base_uri": "https://localhost:8080/"
        },
        "id": "YnDFztC5AqVD",
        "outputId": "2762179d-e944-4931-fc02-85e45d05ed6d"
      },
      "execution_count": null,
      "outputs": [
        {
          "output_type": "stream",
          "name": "stdout",
          "text": [
            "5 Siswa dengan BMI Tertinggi adalah:\n",
            "                            Nama    BMI\n",
            "13                   Abdul Hafiz  35.92\n",
            "2   Muhammad Rizki Irawan Wijaya  32.28\n",
            "6               Anggie Maesyaroh  29.72\n",
            "4                Crisvane Dinda   27.34\n",
            "20                Taufiqurrohman  26.37\n"
          ]
        }
      ]
    },
    {
      "cell_type": "markdown",
      "source": [],
      "metadata": {
        "id": "bi_ZQhfMmRgV"
      }
    },
    {
      "cell_type": "markdown",
      "source": [
        "1. Kodingan digunakan untuk menghitung 5 siswa dengan BMI tertinggi\n",
        "2. Output yang dihasilkan yaitu 5 orang siswa dengan BMI tertinggi"
      ],
      "metadata": {
        "id": "FYvK3j5UFGhi"
      }
    },
    {
      "cell_type": "markdown",
      "source": [
        "\n",
        "#E. Ada berapa orang yang tergolong status Underweight, Normal, Overweight, dan Obesity?"
      ],
      "metadata": {
        "id": "gccu2SGGmU7M"
      }
    },
    {
      "cell_type": "code",
      "source": [
        "# Menghitung jumlah orang pada setiap status BMI\n",
        "jumlah_per_status = df['Status BMI'].value_counts()\n",
        "\n",
        "# Menampilkan hasil\n",
        "print(\"Jumlah orang pada setiap status BMI:\")\n",
        "print(jumlah_per_status)"
      ],
      "metadata": {
        "colab": {
          "base_uri": "https://localhost:8080/"
        },
        "id": "ntY5admpAscY",
        "outputId": "ae29e9af-5010-453f-d3dc-6f832b03d9d2"
      },
      "execution_count": null,
      "outputs": [
        {
          "output_type": "stream",
          "name": "stdout",
          "text": [
            "Jumlah orang pada setiap status BMI:\n",
            "Status BMI\n",
            "Normal         15\n",
            "Overweight      5\n",
            "Underweight     3\n",
            "Obesity         2\n",
            "Name: count, dtype: int64\n"
          ]
        }
      ]
    },
    {
      "cell_type": "markdown",
      "source": [
        "1. Kodingan ini diggunakan untuk menghitung jumlah orang pada setiap status BMI\n",
        "2. Ouput yang dihasilkan yaitu jumlah orang yang ada pada setiap status BMI"
      ],
      "metadata": {
        "id": "Y2jjIjSOFTVE"
      }
    },
    {
      "cell_type": "markdown",
      "source": [
        "#SOAL 2\n"
      ],
      "metadata": {
        "id": "jxQmzUWqPIDY"
      }
    },
    {
      "cell_type": "markdown",
      "source": [
        "Perusahaan investasi jamin-sugih Co kami memberikan penawaran investasi terbaik dengan pembagian keuangan tetap sebesar 25% setiap tahun\n",
        "\n",
        "Buatkanlah program python dapat menerima input dari pengguna dalam bentuk : Modal investasi (bilangan bulat antara 0 - 1.000.000.000)\n",
        "\n",
        "Jangka waktu investasi (bilangan bulat antara 1 - 25 dalam tahun)\n",
        "\n",
        "Program akan menampilkan informasi akumulasi setiap tahun, menggunakan iterasi untuk setiap tahun"
      ],
      "metadata": {
        "id": "ezlemT89Fghq"
      }
    },
    {
      "cell_type": "code",
      "source": [
        "# Soal No 2\n",
        "# Buatkan Investment Tenue Years setiap tahunnya\n",
        "# Dengan Modal 0-1.000.000.000 dan Jangka Waktu 1-25 Tahun\n",
        "def investment_simulation():\n",
        "    try:\n",
        "        # Input modal investasi\n",
        "        print(\"Masukkan Modal Investasi 0-1.000.000.000\")\n",
        "        capital = int(input(\"Money Capital : \"))\n",
        "        if capital < 0 or capital > 1_000_000_000:\n",
        "            print (\"Modal tidak sesuai ketentuan.\")\n",
        "            return\n",
        "\n",
        "        # Input jangka waktu investasi\n",
        "        print(\"Masukkan Jangka Waktu Investasi 1-25 Tahun\")\n",
        "        tenure = int(input(\"Investment Tenure : \"))\n",
        "        if tenure < 1 or tenure > 25:\n",
        "            print(\"Tenure tidak sesuai ketentuan.\")\n",
        "            return\n",
        "\n",
        "\n",
        "        rate_of_return = 0.25\n",
        "        for year in range(1, tenure + 1):\n",
        "            capital += capital * rate_of_return\n",
        "            print(f\"Year {year}, your total investment: {capital:.1f}\")\n",
        "\n",
        "    except ValueError as e:\n",
        "        print(f\"Error: {e}\")\n",
        "\n",
        "# Menjalankan simulasi investasi\n",
        "investment_simulation()"
      ],
      "metadata": {
        "colab": {
          "base_uri": "https://localhost:8080/"
        },
        "id": "KExRTVeWA906",
        "outputId": "fe424bef-08bb-46d1-b87b-425e89c2e48b"
      },
      "execution_count": null,
      "outputs": [
        {
          "output_type": "stream",
          "name": "stdout",
          "text": [
            "Masukkan Modal Investasi 0-1.000.000.000\n",
            "Money Capital : 100000000\n",
            "Masukkan Jangka Waktu Investasi 1-25 Tahun\n",
            "Investment Tenure : 16\n",
            "Year 1, your total investment: 125000000.0\n",
            "Year 2, your total investment: 156250000.0\n",
            "Year 3, your total investment: 195312500.0\n",
            "Year 4, your total investment: 244140625.0\n",
            "Year 5, your total investment: 305175781.2\n",
            "Year 6, your total investment: 381469726.6\n",
            "Year 7, your total investment: 476837158.2\n",
            "Year 8, your total investment: 596046447.8\n",
            "Year 9, your total investment: 745058059.7\n",
            "Year 10, your total investment: 931322574.6\n",
            "Year 11, your total investment: 1164153218.3\n",
            "Year 12, your total investment: 1455191522.8\n",
            "Year 13, your total investment: 1818989403.5\n",
            "Year 14, your total investment: 2273736754.4\n",
            "Year 15, your total investment: 2842170943.0\n",
            "Year 16, your total investment: 3552713678.8\n"
          ]
        }
      ]
    },
    {
      "cell_type": "markdown",
      "source": [
        "1. Kode ini memungkikan pengguna untuk mensimulasikan pertumbuhan investasi mereka berdasarkan modal awal dan jangka waktu investasi yang diinginkan.\n",
        "2. Output yang dihasilkan pengguna dapat melihat bagaimana modal mereka berkembang dari tahun ke tahun"
      ],
      "metadata": {
        "id": "ewNNIiDnGOMc"
      }
    },
    {
      "cell_type": "markdown",
      "source": [
        "#SOAL No. 3\n"
      ],
      "metadata": {
        "id": "bWZI8yTcPpZT"
      }
    },
    {
      "cell_type": "code",
      "source": [
        "#num  berfungsi untuk memeriksa apakah bilangan ini prima atau bukan\n",
        "def is_prima(num):\n",
        "#bilangan prima merupakan bilangan yang yang bersifat asli yang lebih dari 1 dan hanya bisa dibagi oleh 1 dan oleh bilanganya itu sendiri\n",
        "    if num < 2: #ketika angka yang dimasukkan kurang dari dua maka fungsi akan false\n",
        "        return False\n",
        "    for i in range(2, int(num ** 0.5) + 1):\n",
        "        if num % i == 0:\n",
        "            return False\n",
        "    return True #jika angka yang dimasukkan sudah benar maka bilangan terebut merupakan bilangan prima\n",
        "#generate_prima bertugas untuk menghasilkan bilangan (n)prima pertama\n",
        "def generate_prima(n):\n",
        "    prima = []\n",
        "    num = 2\n",
        "    while len(prima) < n:\n",
        "        if is_prima(num): #bilangan prima di cek oleh fungsi is_prime\n",
        "            prima.append(num)\n",
        "        num += 1\n",
        "    return prima\n",
        "\n",
        "# Input yang dimasukkan oleh pengguna\n",
        "n = int(input(\"Masukkan Nilai prima yang anda inginkan : \"))\n",
        "\n",
        "# Memanggil fungsi untuk menghasilkan bilangan prima\n",
        "prima = generate_prima(n)\n",
        "# Output yang dihasilkan\n",
        "print(f\"Berikut merupakan {n} bilangan prima pertama yang dihasilkan : {prima}\")\n"
      ],
      "metadata": {
        "colab": {
          "base_uri": "https://localhost:8080/"
        },
        "id": "Qicb71oIBDdX",
        "outputId": "4184a65a-d480-4787-db2e-0ca9a2aaca63"
      },
      "execution_count": null,
      "outputs": [
        {
          "output_type": "stream",
          "name": "stdout",
          "text": [
            "Masukkan Nilai prima yang anda inginkan : 15\n",
            "Berikut merupakan 15 bilangan prima pertama yang dihasilkan : [2, 3, 5, 7, 11, 13, 17, 19, 23, 29, 31, 37, 41, 43, 47]\n"
          ]
        }
      ]
    },
    {
      "cell_type": "markdown",
      "source": [
        "1. Kodingan digunakan untuk menghitung bilangan prima, dan pengguna dapat memaukkan input yang diinginkan\n",
        "2. Fungsi yang digunakan is_prima untuk memeriksa keprimaan bilangan dan generate_prima untuk menghasilkan bilangan prima\n",
        "3. Hasil yang ditampilkan merupakan bilangan pertama yang diinput pengguna"
      ],
      "metadata": {
        "id": "q0XR1NRQJC6X"
      }
    },
    {
      "cell_type": "markdown",
      "source": [
        "#Soal no.4\n"
      ],
      "metadata": {
        "id": "Zks8bmJcPtLc"
      }
    },
    {
      "cell_type": "markdown",
      "source": [
        "#Pola 1"
      ],
      "metadata": {
        "id": "9EdfKca8P3JL"
      }
    },
    {
      "cell_type": "code",
      "source": [
        "def pola_1(n):\n",
        "    for i in range(1, n+1):\n",
        "        # Print leading spaces\n",
        "        print(' ' * (n-i), end='')\n",
        "        # Print stars\n",
        "        print('* ' * i)\n",
        "\n",
        "n = int(input(\"Masukkan nilai n: \"))\n",
        "pola_1(n)"
      ],
      "metadata": {
        "colab": {
          "base_uri": "https://localhost:8080/"
        },
        "id": "hJ0zIsegBKP_",
        "outputId": "8bd46375-48c3-4f0c-e147-4dac997c0179"
      },
      "execution_count": null,
      "outputs": [
        {
          "output_type": "stream",
          "name": "stdout",
          "text": [
            "Masukkan nilai n: 10\n",
            "         * \n",
            "        * * \n",
            "       * * * \n",
            "      * * * * \n",
            "     * * * * * \n",
            "    * * * * * * \n",
            "   * * * * * * * \n",
            "  * * * * * * * * \n",
            " * * * * * * * * * \n",
            "* * * * * * * * * * \n"
          ]
        }
      ]
    },
    {
      "cell_type": "markdown",
      "source": [
        "Penjelasan alur program:\n",
        "1. Pengguna memasukkan nilai (`n`) sebagai input tinggi.\n",
        "2. Program menggunakan loop untuk mencetak setiap baris dari segitiga\n",
        "3. Pada setiap iterasi, program `#Print stars` mencetak spasi untuk memposisikan bintang dengan benar, kemudian mencetak bintang dengan spasi diantaranya.\n",
        "4. Program mencetak baris-baris dengan jumlah bintang yang meningkat pada setiap baris, dimulai dari 1 hingga `n`.\n",
        "\n"
      ],
      "metadata": {
        "id": "P0pYcvnVP-uN"
      }
    },
    {
      "cell_type": "markdown",
      "source": [
        "#Pola 2\n"
      ],
      "metadata": {
        "id": "Wpt1fW_mP69M"
      }
    },
    {
      "cell_type": "code",
      "source": [
        "def pola_2(n):\n",
        "    max_width = 2 * n - 1  # Lebar maksimum pola, berdasarkan jumlah huruf terbanyak di baris terakhir\n",
        "\n",
        "    # Bagian atas\n",
        "    for i in range(1, n+1):\n",
        "        # Tentukan jumlah huruf pada setiap baris dengan pola bilangan ganjil\n",
        "        jumlah_huruf = 2 * i - 1\n",
        "        # Huruf yang diulang dengan spasi\n",
        "        baris_huruf = (chr(64 + i) + ' ') * jumlah_huruf\n",
        "        # Print baris dengan center\n",
        "        print(baris_huruf.center(max_width * 2))  # Centering berdasarkan lebar maksimum pola\n",
        "\n",
        "    # Bagian bawah\n",
        "    for i in range(n-1, 0, -1):\n",
        "        # Tentukan jumlah huruf pada setiap baris dengan pola bilangan ganjil\n",
        "        jumlah_huruf = 2 * i - 1\n",
        "        # Huruf yang diulang dengan spasi\n",
        "        baris_huruf = (chr(64 + i) + ' ') * jumlah_huruf\n",
        "        # Print baris dengan center\n",
        "        print(baris_huruf.center(max_width * 2))  # Centering berdasarkan lebar maksimum pola\n",
        "\n",
        "n = int(input(\"Masukkan nilai n: \"))\n",
        "pola_2(n)"
      ],
      "metadata": {
        "colab": {
          "base_uri": "https://localhost:8080/"
        },
        "id": "pxm1F1dhBR6t",
        "outputId": "7cf4ffd0-4505-4c5e-d8f0-fc05a6248501"
      },
      "execution_count": null,
      "outputs": [
        {
          "output_type": "stream",
          "name": "stdout",
          "text": [
            "Masukkan nilai n: 20\n",
            "                                      A                                       \n",
            "                                    B B B                                     \n",
            "                                  C C C C C                                   \n",
            "                                D D D D D D D                                 \n",
            "                              E E E E E E E E E                               \n",
            "                            F F F F F F F F F F F                             \n",
            "                          G G G G G G G G G G G G G                           \n",
            "                        H H H H H H H H H H H H H H H                         \n",
            "                      I I I I I I I I I I I I I I I I I                       \n",
            "                    J J J J J J J J J J J J J J J J J J J                     \n",
            "                  K K K K K K K K K K K K K K K K K K K K K                   \n",
            "                L L L L L L L L L L L L L L L L L L L L L L L                 \n",
            "              M M M M M M M M M M M M M M M M M M M M M M M M M               \n",
            "            N N N N N N N N N N N N N N N N N N N N N N N N N N N             \n",
            "          O O O O O O O O O O O O O O O O O O O O O O O O O O O O O           \n",
            "        P P P P P P P P P P P P P P P P P P P P P P P P P P P P P P P         \n",
            "      Q Q Q Q Q Q Q Q Q Q Q Q Q Q Q Q Q Q Q Q Q Q Q Q Q Q Q Q Q Q Q Q Q       \n",
            "    R R R R R R R R R R R R R R R R R R R R R R R R R R R R R R R R R R R     \n",
            "  S S S S S S S S S S S S S S S S S S S S S S S S S S S S S S S S S S S S S   \n",
            "T T T T T T T T T T T T T T T T T T T T T T T T T T T T T T T T T T T T T T T \n",
            "  S S S S S S S S S S S S S S S S S S S S S S S S S S S S S S S S S S S S S   \n",
            "    R R R R R R R R R R R R R R R R R R R R R R R R R R R R R R R R R R R     \n",
            "      Q Q Q Q Q Q Q Q Q Q Q Q Q Q Q Q Q Q Q Q Q Q Q Q Q Q Q Q Q Q Q Q Q       \n",
            "        P P P P P P P P P P P P P P P P P P P P P P P P P P P P P P P         \n",
            "          O O O O O O O O O O O O O O O O O O O O O O O O O O O O O           \n",
            "            N N N N N N N N N N N N N N N N N N N N N N N N N N N             \n",
            "              M M M M M M M M M M M M M M M M M M M M M M M M M               \n",
            "                L L L L L L L L L L L L L L L L L L L L L L L                 \n",
            "                  K K K K K K K K K K K K K K K K K K K K K                   \n",
            "                    J J J J J J J J J J J J J J J J J J J                     \n",
            "                      I I I I I I I I I I I I I I I I I                       \n",
            "                        H H H H H H H H H H H H H H H                         \n",
            "                          G G G G G G G G G G G G G                           \n",
            "                            F F F F F F F F F F F                             \n",
            "                              E E E E E E E E E                               \n",
            "                                D D D D D D D                                 \n",
            "                                  C C C C C                                   \n",
            "                                    B B B                                     \n",
            "                                      A                                       \n"
          ]
        }
      ]
    },
    {
      "cell_type": "markdown",
      "source": [
        "Penjelasan alur program:\n",
        "1. Pengguna memasukkan nilai `n` sebagai input tinggi.\n",
        "2. Program menggunakan perhitungan `max_width`, yang dihitung berdasarkan jumlah karakter maksimal yang akan dicetak pada baris terpanjang. Rumusnya adalah `2 * n - 1`, di mana `n` adalah jumlah baris.\n",
        "3. Program menggunakan dua loop: satu untuk mencetak bagian atas dan satu untuk bagian bawah.\n",
        "4. Loop pertama (Bagian Atas) mencetak huruf dari 'A' hingga karakter sesuai dengan baris saat ini. Pada setiap iterasi, program akan menghitung jumlah huruf berdasarkan rumus 2 * i - 1 (baris pertama memiliki 1 huruf, baris kedua memiliki 3 huruf, dan seterusnya sama seperti pola bilangan ganjil).\n",
        "5. Loop kedua mencetak huruf untuk bagian bawah, dengan jumlah huruf yang menurun setelah mencapai puncak (jumlah huruf di baris-baris berikutnya berkurang dari 9 kembali ke 1).\n",
        "6. Fungsi `chr(64 + i)` digunakan untuk mengkonversi angka ke karakter huruf(misalnya, 65 untuk 'A', 66 untuk 'B', dan seterusnya).\n",
        "7. Setiap baris yang dicetak di-\"center\"-kan menggunakan metode `.center()`. Untuk memastikan spasi yang cukup, lebar maksimal dikalikan dengan 2, sehingga ada ruang lebih untuk meratakan pola ditengah layar.\n",
        "\n",
        "\n"
      ],
      "metadata": {
        "id": "QyvCqihMQEpI"
      }
    },
    {
      "cell_type": "markdown",
      "source": [
        "#Pola 3"
      ],
      "metadata": {
        "id": "DpA1n1jvQGtr"
      }
    },
    {
      "cell_type": "code",
      "source": [
        "def pola_huruf(n):\n",
        "    max_width = 2 * n - 1  # Lebar maksimum pola, berdasarkan jumlah huruf terbanyak di baris terakhir\n",
        "\n",
        "    # Bagian atas\n",
        "    for i in range(1, n+1):\n",
        "        # Tentukan jumlah huruf pada setiap baris dengan pola bilangan ganjil\n",
        "        jumlah_huruf = 2 * i - 1\n",
        "        # Gunakan karakter sesuai urutan ASCII\n",
        "        karakter = chr(64 + i) if i <= 26 else chr(64 + i - 26)\n",
        "        # Huruf yang diulang dengan spasi\n",
        "        baris_huruf = (karakter + ' ') * jumlah_huruf\n",
        "        # Print baris dengan center\n",
        "        print(baris_huruf.center(max_width * 2))\n",
        "\n",
        "    # Bagian bawah\n",
        "    for i in range(n-1, 0, -1):\n",
        "        # Tentukan jumlah huruf pada setiap baris dengan pola bilangan ganjil\n",
        "        jumlah_huruf = 2 * i - 1\n",
        "        # Gunakan karakter sesuai urutan ASCII\n",
        "        karakter = chr(64 + i) if i <= 26 else chr(64 + i - 26)\n",
        "        # Huruf yang diulang dengan spasi\n",
        "        baris_huruf = (karakter + ' ') * jumlah_huruf\n",
        "        # Print baris dengan center\n",
        "        print(baris_huruf.center(max_width * 2))\n",
        "\n",
        "n = int(input(\"Masukkan nilai n: \"))\n",
        "pola_huruf(n)"
      ],
      "metadata": {
        "colab": {
          "base_uri": "https://localhost:8080/"
        },
        "id": "A6cG-Ij7BWv9",
        "outputId": "470ef33b-0a86-4682-926b-9fb6b3e16057"
      },
      "execution_count": null,
      "outputs": [
        {
          "output_type": "stream",
          "name": "stdout",
          "text": [
            "Masukkan nilai n: 25\n",
            "                                                A                                                 \n",
            "                                              B B B                                               \n",
            "                                            C C C C C                                             \n",
            "                                          D D D D D D D                                           \n",
            "                                        E E E E E E E E E                                         \n",
            "                                      F F F F F F F F F F F                                       \n",
            "                                    G G G G G G G G G G G G G                                     \n",
            "                                  H H H H H H H H H H H H H H H                                   \n",
            "                                I I I I I I I I I I I I I I I I I                                 \n",
            "                              J J J J J J J J J J J J J J J J J J J                               \n",
            "                            K K K K K K K K K K K K K K K K K K K K K                             \n",
            "                          L L L L L L L L L L L L L L L L L L L L L L L                           \n",
            "                        M M M M M M M M M M M M M M M M M M M M M M M M M                         \n",
            "                      N N N N N N N N N N N N N N N N N N N N N N N N N N N                       \n",
            "                    O O O O O O O O O O O O O O O O O O O O O O O O O O O O O                     \n",
            "                  P P P P P P P P P P P P P P P P P P P P P P P P P P P P P P P                   \n",
            "                Q Q Q Q Q Q Q Q Q Q Q Q Q Q Q Q Q Q Q Q Q Q Q Q Q Q Q Q Q Q Q Q Q                 \n",
            "              R R R R R R R R R R R R R R R R R R R R R R R R R R R R R R R R R R R               \n",
            "            S S S S S S S S S S S S S S S S S S S S S S S S S S S S S S S S S S S S S             \n",
            "          T T T T T T T T T T T T T T T T T T T T T T T T T T T T T T T T T T T T T T T           \n",
            "        U U U U U U U U U U U U U U U U U U U U U U U U U U U U U U U U U U U U U U U U U         \n",
            "      V V V V V V V V V V V V V V V V V V V V V V V V V V V V V V V V V V V V V V V V V V V       \n",
            "    W W W W W W W W W W W W W W W W W W W W W W W W W W W W W W W W W W W W W W W W W W W W W     \n",
            "  X X X X X X X X X X X X X X X X X X X X X X X X X X X X X X X X X X X X X X X X X X X X X X X   \n",
            "Y Y Y Y Y Y Y Y Y Y Y Y Y Y Y Y Y Y Y Y Y Y Y Y Y Y Y Y Y Y Y Y Y Y Y Y Y Y Y Y Y Y Y Y Y Y Y Y Y \n",
            "  X X X X X X X X X X X X X X X X X X X X X X X X X X X X X X X X X X X X X X X X X X X X X X X   \n",
            "    W W W W W W W W W W W W W W W W W W W W W W W W W W W W W W W W W W W W W W W W W W W W W     \n",
            "      V V V V V V V V V V V V V V V V V V V V V V V V V V V V V V V V V V V V V V V V V V V       \n",
            "        U U U U U U U U U U U U U U U U U U U U U U U U U U U U U U U U U U U U U U U U U         \n",
            "          T T T T T T T T T T T T T T T T T T T T T T T T T T T T T T T T T T T T T T T           \n",
            "            S S S S S S S S S S S S S S S S S S S S S S S S S S S S S S S S S S S S S             \n",
            "              R R R R R R R R R R R R R R R R R R R R R R R R R R R R R R R R R R R               \n",
            "                Q Q Q Q Q Q Q Q Q Q Q Q Q Q Q Q Q Q Q Q Q Q Q Q Q Q Q Q Q Q Q Q Q                 \n",
            "                  P P P P P P P P P P P P P P P P P P P P P P P P P P P P P P P                   \n",
            "                    O O O O O O O O O O O O O O O O O O O O O O O O O O O O O                     \n",
            "                      N N N N N N N N N N N N N N N N N N N N N N N N N N N                       \n",
            "                        M M M M M M M M M M M M M M M M M M M M M M M M M                         \n",
            "                          L L L L L L L L L L L L L L L L L L L L L L L                           \n",
            "                            K K K K K K K K K K K K K K K K K K K K K                             \n",
            "                              J J J J J J J J J J J J J J J J J J J                               \n",
            "                                I I I I I I I I I I I I I I I I I                                 \n",
            "                                  H H H H H H H H H H H H H H H                                   \n",
            "                                    G G G G G G G G G G G G G                                     \n",
            "                                      F F F F F F F F F F F                                       \n",
            "                                        E E E E E E E E E                                         \n",
            "                                          D D D D D D D                                           \n",
            "                                            C C C C C                                             \n",
            "                                              B B B                                               \n",
            "                                                A                                                 \n"
          ]
        }
      ]
    },
    {
      "cell_type": "markdown",
      "source": [
        "Penjelasan Alur Program:\n",
        "1. Pengguna memasukkan nilai `n` sebagai input tinggi.\n",
        "2. Program menggunakan perhitungan `max_width` untuk menentukan lebar maksimal dari pola, yang dihitung dari lebar baris terpanjang.\n",
        "3. Program menggunakan dua loop: satu untuk mencetak bagian atas dan satu untuk bagian bawah.\n",
        "4. Loop pertama (Bagian Atas) mencetak huruf dari 'A' hingga karakter sesuai dengan baris saat ini. Pada setiap iterasi, program akan menghitung jumlah huruf berdasarkan rumus 2 * i - 1 (baris pertama memiliki 1 huruf, baris kedua memiliki 3 huruf, dan seterusnya sama seperti pola bilangan ganjil).\n",
        "5. Loop kedua mencetak huruf untuk bagian bawah, dengan jumlah huruf yang menurun setelah mencapai puncak (jumlah huruf di baris-baris berikutnya berkurang dari 9 kembali ke 1).\n",
        "6. Progam menggunakan karakter ASCII dimana kode ASCII memiliki karakter berurutan setelah huruf 'Z', sehingga bisa digunakan untuk mengikuti pola yang lebih besar dari alfabet. Jika `i <= 26`, maka karakter yang digunakan adalah huruf 'A' hingga 'Z' (berdasarkan kode ASCII mulai dari 65 untuk 'A'). Jika `i > 26`, program mengurangi 26 dari indeks untuk berlanjut ke karaker berikutnya dalam tabel ASCII, seperti `[`,`\\`,`]`, dan seterusnya.\n",
        "7. Setiap baris yang dicetak di-\"center\"-kan menggunakan metode .center(). Untuk memastikan spasi yang cukup, lebar maksimal dikalikan dengan 2, sehingga ada ruang lebih untuk meratakan pola ditengah layar."
      ],
      "metadata": {
        "id": "BSf7h8shQLzD"
      }
    }
  ]
}